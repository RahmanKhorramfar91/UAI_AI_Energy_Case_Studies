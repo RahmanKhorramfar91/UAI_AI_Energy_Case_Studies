{
  "nbformat": 4,
  "nbformat_minor": 0,
  "metadata": {
    "colab": {
      "provenance": [],
      "include_colab_link": true
    },
    "kernelspec": {
      "name": "python3",
      "display_name": "Python 3"
    },
    "language_info": {
      "name": "python"
    }
  },
  "cells": [
    {
      "cell_type": "markdown",
      "metadata": {
        "id": "view-in-github",
        "colab_type": "text"
      },
      "source": [
        "<a href=\"https://colab.research.google.com/github/RahmanKhorramfar91/UAI_AI_Energy_Case_Studies/blob/main/Case%20Study%204%20-%20Capacity%20Planning.ipynb\" target=\"_parent\"><img src=\"https://colab.research.google.com/assets/colab-badge.svg\" alt=\"Open In Colab\"/></a>"
      ]
    },
    {
      "cell_type": "markdown",
      "source": [
        "# **Case Study 4 - Universal AI, AI and Sustainability: Energy**"
      ],
      "metadata": {
        "id": "T3rfuOZTb2QU"
      }
    },
    {
      "cell_type": "markdown",
      "source": [
        "## About the Case Study\n",
        "\n",
        "Taking a step back from operational decisions in Case Study 3 is the planning phase for grid assets which is usually carried out by capacity expansion models (CEMs). These models determine the optimal location, sizing, and timing of major grid assets such as generators, storage, and transmission lines. Examples of CEMs include generation/transmission expansion problem (GEP and TEP), and their integrated model: generation and transmission expansion problem (GTEP).\n",
        "This case study presents modeling and implementation for a simplified GTEP, and its extensions to evaluate the role of two new technologies, long-duration energy storage (LDES) and carbon capture and storage (CCS).\n",
        "\n",
        "These problems are widely used as decision-support tools for major energy infrastructure projects that are usually multi-decadal investment decisions to strategic goals while ensuring affordability, reliability, and sustainability of the electric grid. Example of a strategic goal is the *energy transition* that is characterized by moving away from the current fossil-fuel-dominated grid to a decarbonized one. This transition requires detailed planning to find transition *pathways*, roadmaps outlining the required investment and system operations in response to different technological, meteorological, policy-related, and socio-economic factors. Needless to say, finding these pathways is challenging, not least due to the uncertainty of the future that affects the parameters and all the modeling aspects.\n",
        "\n",
        "Be began with the mathematical model and implementation of a stylized GTEP with the goal of providing a foundation for more complex models and showing how different modeling assumptions can impact the overall outcome. The case study concludes with questions...\n",
        "\n"
      ],
      "metadata": {
        "id": "_upybiP_dGKT"
      }
    },
    {
      "cell_type": "markdown",
      "source": [
        "**Overview of the content**:\n",
        "\n",
        "1. [Getting Started](#getting_started)\n",
        "2. [Generation and Transmission Expansion Problem](#GTEP)\n",
        "3. [New Technologies](#tech)\n",
        "4. [Case Study Questions](#questions)\n",
        "5. [References and Further Reading](#references)"
      ],
      "metadata": {
        "id": "W5EQLdlmdIL_"
      }
    },
    {
      "cell_type": "markdown",
      "source": [
        "# **<font color='blue'>1. Getting Started </font>**  <a name=\"getting_started\"></a>\n",
        "\n",
        "Like previously, the supply and demand parameters for the GTEP will be based on the historical ISONE data available at [the GitHub repository](https://github.com/RahmanKhorramfar91/UAI_AI_Energy_Case_Studies).\n",
        "\n"
      ],
      "metadata": {
        "id": "xpaQcysUdMRi"
      }
    },
    {
      "cell_type": "code",
      "source": [
        "import numpy as np; # for scientific computing\n",
        "import pandas as pd; # for data science\n",
        "import matplotlib.pyplot as plt; # for plotting\n",
        "import os; # for directory control\n",
        "import zipfile; # to handle zip files\n",
        "import time;\n",
        "import networkx as nx;  # for plotting the network"
      ],
      "metadata": {
        "id": "zmtOhDsZb3uQ"
      },
      "execution_count": 1,
      "outputs": []
    },
    {
      "cell_type": "markdown",
      "source": [
        "Install the [`pyoptinterface` package](https://metab0t.github.io/PyOptInterface/index.html)."
      ],
      "metadata": {
        "id": "bBSNMJRmdPjV"
      }
    },
    {
      "cell_type": "code",
      "source": [
        "# install and fetch the pyoptinterface, an open-source Python library that provides a unified, high-performance interface\n",
        "!pip install pyoptinterface[highs]\n",
        "import pyoptinterface as poi;\n",
        "from pyoptinterface import highs;"
      ],
      "metadata": {
        "colab": {
          "base_uri": "https://localhost:8080/"
        },
        "id": "eR9Z5EuPdQTB",
        "outputId": "7ee168c4-0b68-4ff5-e8f9-7e9248cccd3a"
      },
      "execution_count": 2,
      "outputs": [
        {
          "output_type": "stream",
          "name": "stdout",
          "text": [
            "Requirement already satisfied: pyoptinterface[highs] in /usr/local/lib/python3.12/dist-packages (0.5.0)\n",
            "Requirement already satisfied: highsbox in /usr/local/lib/python3.12/dist-packages (from pyoptinterface[highs]) (1.11.0)\n"
          ]
        }
      ]
    },
    {
      "cell_type": "code",
      "source": [
        "# install the clustering package pyclustering\n",
        "!pip install pyclustering;\n",
        "from pyclustering.cluster.kmedoids import kmedoids;"
      ],
      "metadata": {
        "colab": {
          "base_uri": "https://localhost:8080/"
        },
        "id": "44jTEntwhy_C",
        "outputId": "8d052738-a0b9-4753-be9a-bc585027749e"
      },
      "execution_count": 3,
      "outputs": [
        {
          "output_type": "stream",
          "name": "stdout",
          "text": [
            "Requirement already satisfied: pyclustering in /usr/local/lib/python3.12/dist-packages (0.10.1.2)\n",
            "Requirement already satisfied: scipy>=1.1.0 in /usr/local/lib/python3.12/dist-packages (from pyclustering) (1.16.1)\n",
            "Requirement already satisfied: matplotlib>=3.0.0 in /usr/local/lib/python3.12/dist-packages (from pyclustering) (3.10.0)\n",
            "Requirement already satisfied: numpy>=1.15.2 in /usr/local/lib/python3.12/dist-packages (from pyclustering) (2.0.2)\n",
            "Requirement already satisfied: Pillow>=5.2.0 in /usr/local/lib/python3.12/dist-packages (from pyclustering) (11.3.0)\n",
            "Requirement already satisfied: contourpy>=1.0.1 in /usr/local/lib/python3.12/dist-packages (from matplotlib>=3.0.0->pyclustering) (1.3.3)\n",
            "Requirement already satisfied: cycler>=0.10 in /usr/local/lib/python3.12/dist-packages (from matplotlib>=3.0.0->pyclustering) (0.12.1)\n",
            "Requirement already satisfied: fonttools>=4.22.0 in /usr/local/lib/python3.12/dist-packages (from matplotlib>=3.0.0->pyclustering) (4.59.1)\n",
            "Requirement already satisfied: kiwisolver>=1.3.1 in /usr/local/lib/python3.12/dist-packages (from matplotlib>=3.0.0->pyclustering) (1.4.9)\n",
            "Requirement already satisfied: packaging>=20.0 in /usr/local/lib/python3.12/dist-packages (from matplotlib>=3.0.0->pyclustering) (25.0)\n",
            "Requirement already satisfied: pyparsing>=2.3.1 in /usr/local/lib/python3.12/dist-packages (from matplotlib>=3.0.0->pyclustering) (3.2.3)\n",
            "Requirement already satisfied: python-dateutil>=2.7 in /usr/local/lib/python3.12/dist-packages (from matplotlib>=3.0.0->pyclustering) (2.9.0.post0)\n",
            "Requirement already satisfied: six>=1.5 in /usr/local/lib/python3.12/dist-packages (from python-dateutil>=2.7->matplotlib>=3.0.0->pyclustering) (1.17.0)\n"
          ]
        }
      ]
    },
    {
      "cell_type": "markdown",
      "source": [
        "Clone the GitHub repo and unzip the files."
      ],
      "metadata": {
        "id": "juxy6afTdTtM"
      }
    },
    {
      "cell_type": "code",
      "source": [
        "!git clone 'https://github.com/RahmanKhorramfar91/UAI_AI_Energy_Case_Studies.git';\n",
        "zip_file_path = os.getcwd()+'/UAI_AI_Energy_Case_Studies/load_time_series_data_ISONE_2000-2023.zip';\n",
        "extract_dir = os.getcwd()+'/load_time_series_data_ISONE_2000-2023';\n",
        "with zipfile.ZipFile(zip_file_path, 'r') as zip_ref:\n",
        "    zip_ref.extractall(extract_dir);"
      ],
      "metadata": {
        "colab": {
          "base_uri": "https://localhost:8080/"
        },
        "id": "8o6QzD0ZdRnf",
        "outputId": "13ab6175-0cc5-4227-f6db-a66edaf66ba0"
      },
      "execution_count": 4,
      "outputs": [
        {
          "output_type": "stream",
          "name": "stdout",
          "text": [
            "fatal: destination path 'UAI_AI_Energy_Case_Studies' already exists and is not an empty directory.\n"
          ]
        }
      ]
    },
    {
      "cell_type": "markdown",
      "source": [
        "\n",
        "\n",
        "# **<font color='blue'>2. Generation and Transmission Expansion Problem </font>**  <a name=\"GTEP\"></a>\n",
        "\n",
        "GTEPs are usually large-scale, often intractable optimization problems. Therefore, it is common to solve these problems at coarse spatio-temporal resolutions by reducing the number of nodes (locations) and planning periods.\n",
        "\n",
        "## **Assumptions**\n",
        "Here, we solve a GTEP under following assumptions:\n",
        "\n",
        "- **Single-period**: Investment decisions are made in one period which can span multiple years. For example, if the planning horizon is 2050, all investments are assumed to occur between now and 2050  in one time block. In contrast, **multi-period** GTEP distributes investment decisions across several stages (e.g., every 5 years until 2050).\n",
        "\n",
        "- **Deterministic parameters**: All parameters (demand, cost, etc.) for the target year are assumed to be known with certainty and represented as fixed values. Alternative approaches would be **stochastic programming** and **robust optimization**.\n",
        "\n",
        "- **Coarse resolution**: The model is solved at a zonal level using a reduced set of weighted `representative days`, rather than at the bus level with full year chronology.\n",
        "\n",
        "- **Centralized decision maker**:  Grid expansion decisions are made by a single entity with full authority and complete information. While real-world decisions depend on market structure, centralized models are still prevalent in deregulated markets due to their ease of modeling, computation, and interpretation.\n",
        "- **Independent operations**: The electricity system is modeled in isolation without coupling to other energy vectors such as natural gas and transportation. In reality, these systems are interdependent.\n",
        "\n",
        "- **Green field**: Planning starts from scratch with no existing infrastructure. By contrast, a **brown-field** assumption considers the existing generators, storage, and transmission lines.\n",
        "\n",
        "- **Loss-less transport network model**: The electricity flow is modeled without considering AC power flow dynamics or its DC approximation. Also, no electricity loss is incorporated in the model.\n",
        "\n",
        "\n",
        "- **Other**: The model excludes the distribution network and uses simplified technological and policy-related constraints. A high-fidelity GTEP may include UC decisions, land-use availability for renewables, environmental considerations, reserve requirements, contingency, and more.\n",
        "\n",
        "\n",
        "\n",
        "\n",
        "\n"
      ],
      "metadata": {
        "id": "9rLxLumtdcm3"
      }
    },
    {
      "cell_type": "markdown",
      "source": [
        "## **<font color='black'>Sets, Parameters, Variables </font>**\n",
        "\n",
        "\n"
      ],
      "metadata": {
        "id": "UNycNbasB2FN"
      }
    },
    {
      "cell_type": "markdown",
      "source": [
        "\n",
        "**Sets**\n",
        "- $\\mathcal{N}$: nodes, by $n, m$\n",
        "- $\\mathcal{H}$: thermal generator types, indexed by $h$\n",
        "- $\\mathcal{V}$: renewable generator types, indexed by $r$\n",
        "- $\\mathcal{G}$: all generators, indexed by $g$\n",
        "- $\\mathcal{K}$: storage types, indexed by $k$\n",
        "- $\\mathcal{T}$: planning hours, indexed by $t$\n",
        "\n",
        "**Parameters**\n",
        "- $D_{nt}$: demand [MW]       \n",
        "- $c^{\\text{line}}_{nm}$: annualized CAPEX for lines (\\$/MW)\n",
        "- $c^{\\text{th}}_h$: annualized CAPEX for thermal (\\$/MW)\n",
        "- $c^{\\text{vre}}_r$: annualized CAPEX for VRE (\\$/MW)\n",
        "- $c^{\\text{en}}_k$: annualized CAPEX for storage energy rating (\\$/MWh)\n",
        "- $c^{\\text{pow}}_k$: annualized  CAPEX for storage power rating (\\$/MW)\n",
        "- $c_h$: marginal generation cost for thermal units [\\$/MWh]\n",
        "- $c^{\\text{VoLL}}$: value of lost load [\\$/MWh]\n",
        "- $c^{\\text{curt}}$: renewable curtailment penalty [\\$/MWh]\n",
        "- $w_t$: time period weight\n",
        "- $\\rho_{rnt}\\in [0,1]$: capacity factor for renewables [MW]\n",
        "- $\\gamma^{\\text{ch}}, \\gamma^{\\text{dis}}$: charge/discharge efficiency\n",
        "- $U^{\\text{strCap}}$: upper-bound for total storage capacity\n",
        "\n",
        "**Variables**\n",
        "- $z_{nm} \\in \\mathbb{R}^+$: installed line capacity between nodes, [MW]\n",
        "- $x^{\\text{th}}_{hn} \\in \\mathbb{R^+}$: installed capacity for thermal types\n",
        "- $x^{\\text{vre}}_{rn} \\in \\mathbb{R^+}$: installed capacity for VRE types\n",
        "- $y^{\\text{en}}_{kn}, y^{\\text{pow}}_{kn} \\in \\mathbb{R^+}$: installed storage level, and charge/discharge capacity [MWh] and [MW]\n",
        "- $p^h_{hnt}, p^r_{rnt}\\in \\mathbb{R}^+$: power generation from thermal and VRE [MW]\n",
        "- $f_{nm t}\\in \\mathbb{R}$: flow, [MW]\n",
        "- $a_{nt}, R_{rnt} \\in \\mathbb{R}^+$: lost load and renewable curtailment [MW]\n",
        "- $s^{\\text{lev}}_{knt} \\in \\mathbb{R}^+$: storage level, [MWh]\n",
        "- $s^{\\text{ch}}_{knt}, s^{\\text{dis}}_{knt} \\in \\mathbb{R}^+$: storage charge/discharge, [MW]"
      ],
      "metadata": {
        "id": "W-Dfm5QOdeJF"
      }
    },
    {
      "cell_type": "markdown",
      "source": [
        "## **<font color='black'> Mathematical Model </font>**\n",
        "\n",
        "\n"
      ],
      "metadata": {
        "id": "3rYUmU91B_sM"
      }
    },
    {
      "cell_type": "markdown",
      "source": [
        "\n",
        "**<font color='blue'>Objective Function </font>**   \n",
        "\n",
        "Investment costs including transmission lines, thermal/VRE generators, and battery storage +\n",
        "\n",
        "Operational cost, including marginal generation for thermal units, renewable curtailment, and lost load\n",
        "\n",
        "\n",
        "\\begin{align*}\n",
        "    \\min & \\sum_{n,m \\in \\mathcal{N}, n>m} c^{\\text{line}}_{nm} z_{nm}+ \\sum_{h\\in \\mathcal{H}, n\\in \\mathcal{N}} c^{\\text{th}}_{h} x^{\\text{th}}_{hn}+\\sum_{r\\in \\mathcal{V}, n\\in \\mathcal{N}} c^{\\text{vre}}_{r} x^{\\text{vre}}_{rn}+\\sum_{k\\in \\mathcal{K} n\\in \\mathcal{N}} (c^{\\text{en}}_{k} y^{\\text{en}}_{kn} + c^{\\text{pow}}_{k} y^{\\text{pow}}_{kn})\\\\\n",
        "    \\Large + & \\sum_{t\\in \\mathcal{T}, n\\in \\mathcal{N}} \\left[w_t\\sum_{h\\in \\mathcal{H}} c_h p^h_{hnt} + \\sum_{r\\in \\mathcal{V}} c^{\\text{curt}}R_{rnt} + c^{\\text{VoLL}} a_{nt} \\right]\n",
        "\\end{align*}"
      ],
      "metadata": {
        "id": "yaXWvWGXA1K0"
      }
    },
    {
      "cell_type": "markdown",
      "source": [
        "**<font color='blue'>Constraints </font>**   \n",
        "\n",
        "Power balance\n",
        "\\begin{align*}\n",
        "    & \\sum_{h\\in \\mathcal{H}} p^h_{hnt} + \\sum_{r\\in \\mathcal{V}} p^r_{rnt}+\\sum_{m\\in \\mathcal{N}/n}f_{nm t}+\\sum_{k\\in \\mathcal{K}}(s^{\\text{dis}}_{knt}-s^{\\text{ch}}_{knt})+a_{nt}=D_{nt} & n\\in \\mathcal{N}, t\\in \\mathcal{T}\n",
        "\\end{align*}\n",
        "\n"
      ],
      "metadata": {
        "id": "1mEmk9GSGHeQ"
      }
    },
    {
      "cell_type": "markdown",
      "source": [
        "generation limit\n",
        "\n",
        "\\begin{align*}\n",
        "    & p^h_{hnt}\\leq x^{\\text{th}}_{hn} & h\\in \\mathcal{H}, n\\in \\mathcal{N}, t\\in \\mathcal{T}\\\\\n",
        "    & p^r_{rnt}+R_{rnt} = \\rho_{rnt} x^{\\text{vre}}_{rn} & r\\in \\mathcal{V}, n\\in \\mathcal{N}, t\\in \\mathcal{T}\\\\\n",
        "\\end{align*}\n"
      ],
      "metadata": {
        "id": "kw6uLisdLjWX"
      }
    },
    {
      "cell_type": "markdown",
      "source": [
        "flow limit\n",
        "\n",
        "\\begin{align*}\n",
        "    &-z_{nm} \\leq f_{nm t}\\leq z_{nm} & n,m \\in \\mathcal{N}, t\\in \\mathcal{T}\\\\\n",
        "    & f_{nm t}= -f_{mnt} &n,m \\in \\mathcal{N}, t\\in \\mathcal{T}\\\\\n",
        "    &z_{nm} = z_{mn} &n,m \\in \\mathcal{N}\n",
        "\\end{align*}"
      ],
      "metadata": {
        "id": "AFNdPWu9Mt-4"
      }
    },
    {
      "cell_type": "markdown",
      "source": [
        "storage\n",
        "    \\begin{align}\n",
        "    &s^{\\text{lev}}_{knt} = s^{\\text{lev}}_{kn,t-1}+ \\gamma^{\\text{ch}} s^{\\text{ch}}_{knt} - \\frac{s^{\\text{dis}}_{knt}}{\\gamma^{\\text{dis}}}, \\qquad s^{\\text{lev}}_{kn0}=0&k\\in \\mathcal{K}, n\\in \\mathcal{N}, t\\in \\mathcal{T}\\backslash t_0\\\\\n",
        "    &s^{\\text{lev}}_{knt}\\leq y^{\\text{en}}_{kn}, \\quad s^{\\text{ch}}_{knt}\\leq y^{\\text{pow}}_{kn} ,\\quad s^{\\text{ch}}_{knt}\\leq  y^{\\text{pow}}_{kn}& k\\in \\mathcal{K}, n\\in \\mathcal{N}, t\\in \\mathcal{T}\\\\\n",
        "    & \\sum_{k\\in \\mathcal{K}, n \\in \\mathcal{N}} y^{\\text{en}}_{kn} \\leq U^{\\text{strCap}}\n",
        "\\end{align}"
      ],
      "metadata": {
        "id": "y1x6nyCSNjn-"
      }
    },
    {
      "cell_type": "markdown",
      "source": [
        "Define the problem configuration:"
      ],
      "metadata": {
        "id": "TJgk6aad9z77"
      }
    },
    {
      "cell_type": "code",
      "source": [
        "Setting = {\n",
        "    'num_nodes': 10,\n",
        "    'num_rep_days': 20,\n",
        "    'num_thermal_types': 2,\n",
        "    'num_solar_types': 1,\n",
        "    'num_wind_types': 1,\n",
        "    'num_storage_types': 1,\n",
        "    'annual_demand_growth_rate': 0.01,\n",
        "    'sample_year': 2023\n",
        "    };"
      ],
      "metadata": {
        "id": "9hG9myBZhqKM"
      },
      "execution_count": 6,
      "outputs": []
    },
    {
      "cell_type": "markdown",
      "source": [
        "define a data class to store all parameters:"
      ],
      "metadata": {
        "id": "xa3U0P4x-AxQ"
      }
    },
    {
      "cell_type": "code",
      "source": [
        "np.random.seed(2025);\n",
        "class Data_Collector():\n",
        "  def __init__(self, Setting):\n",
        "  # declare parameters\n",
        "    self.nD = Setting['num_rep_days'];\n",
        "    self.nN = Setting['num_nodes'];\n",
        "    self.nT = self.nD*24;\n",
        "    self.nH = Setting['num_thermal_types'];\n",
        "    self.nSolar = Setting['num_solar_types'];\n",
        "    self.nWind = Setting['num_wind_types'];\n",
        "    self.nV = self.nSolar+self.nWind;\n",
        "    self.nK = Setting['num_storage_types'];\n",
        "    self.sample_year = Setting['sample_year'];\n",
        "    self.annual_demand_growth_rate = Setting['annual_demand_growth_rate'];\n",
        "    # declare sets\n",
        "    self.N = range(self.nN);\n",
        "    self.H = range(self.nH);\n",
        "    self.V = range(self.nV);\n",
        "    self.K = range(self.nK);\n",
        "    self.T = range(self.nT);\n",
        "\n",
        "    # declare parameters\n",
        "    self.demand=None;\n",
        "    self.CFs=None;\n",
        "    self.hours_weights = None;\n",
        "    self.C_line = None;\n",
        "    self.C_th = None;\n",
        "    self.C_vre = None;\n",
        "    self.C_en = None;\n",
        "    self.C_pow = None;\n",
        "    self.C_h = None;\n",
        "    self.C_VoLL = None;\n",
        "    self.C_curt = None;\n",
        "    self.store_eff_ch = None;\n",
        "    self.store_eff_dis = None;\n"
      ],
      "metadata": {
        "id": "SfK0wWY-qz36"
      },
      "execution_count": 7,
      "outputs": []
    },
    {
      "cell_type": "markdown",
      "source": [
        "Define a function to get the representative days and their weights, and demand and supply parameters for the representative days."
      ],
      "metadata": {
        "id": "cjcYogOBcZHK"
      }
    },
    {
      "cell_type": "code",
      "source": [
        "np.random.seed(2025);\n",
        "def rep_weights_demand_supply(data):\n",
        "  '''\n",
        "  data: data class instance\n",
        "  '''\n",
        "  nD = data.nD; nN=data.nN; yr = data.sample_year;nSolar=data.nSolar; nWind=data.nWind;\n",
        "  demand_growth = data.annual_demand_growth_rate;\n",
        "\n",
        "  initial_medoids = np.random.randint(1, 365, size=data.nD);\n",
        "  data = pd.read_csv(f'/content/load_time_series_data_ISONE_2000-2023/load_time_series_data/{yr}_ISONE_load.csv');\n",
        "  selected_columns = ['gross_load_MW', 'temperature_C', 'global_horizontal_irradiance', '10m_wind_speed'];\n",
        "\n",
        "  data_selected = data[selected_columns].iloc[:8760];\n",
        "  hourly_data = data_selected.to_numpy();\n",
        "\n",
        "  # reshape the hourly data into daily batches. Notice that the reshaped data has the form load1, temp1, irradiance1, wind 1, load 2, ...\n",
        "  daily_hourly_3D = hourly_data.reshape(-1,24, hourly_data.shape[1]);\n",
        "\n",
        "  daily_hourly_flattened = daily_hourly_3D.reshape(daily_hourly_3D.shape[0], -1);\n",
        "  model = kmedoids(daily_hourly_flattened, initial_medoids, intermax=3);\n",
        "  model.process();\n",
        "  clusters = model.get_clusters();\n",
        "  medoids = model.get_medoids();\n",
        "  rep_hour_weights = np.zeros(nD*24);\n",
        "  for d in range(nD):\n",
        "    rep_hour_weights[d*24:(d+1)*24] = len(clusters[d]);\n",
        "\n",
        "  demand = np.zeros((nD*24, nN));\n",
        "  supp = np.zeros((nD*24, nN, nSolar+nWind));\n",
        "  dist_factor = np.random.dirichlet(np.ones(nN), size=1);\n",
        "\n",
        "  # at least 60% of nodes can have solar installed\n",
        "  emp = np.random.randint(0,nN, size=round(0.4*nN));\n",
        "  dist_factorS = np.random.dirichlet(np.ones(nN), size=1);\n",
        "  dist_factorS[:,emp] = 0\n",
        "  dist_factorS = dist_factorS/dist_factorS.sum();\n",
        "\n",
        "  # at least 30% of node can have wind installed\n",
        "  emp = np.random.randint(0,nN, size=round(0.7*nN));\n",
        "  dist_factorW = np.random.dirichlet(np.ones(nN), size=1);\n",
        "  dist_factorW[:,emp] = 0\n",
        "  dist_factorW = dist_factorW/dist_factorW.sum();\n",
        "  # print(dist_factorS, dist_factorW);\n",
        "  for d in range(nD):\n",
        "    demand[d*24:(d+1)*24,:] = ((1+demand_growth)**(2050-2025))*(daily_hourly_3D[d, :, 0].reshape(-1,1)@dist_factor);\n",
        "\n",
        "    for sl in range(nSolar):\n",
        "      supp[d*24:(d+1)*24,:,sl] = daily_hourly_3D[d, :, 2].reshape(-1,1)@dist_factorS;\n",
        "      supp[d*24:(d+1)*24,:,sl] = supp[d*24:(d+1)*24,:,sl]/supp[d*24:(d+1)*24,:,sl].max();\n",
        "\n",
        "    for wl in range(nWind):\n",
        "      supp[d*24:(d+1)*24,:,nSolar+wl] = daily_hourly_3D[d, :, 3].reshape(-1,1)@dist_factorW;\n",
        "      supp[d*24:(d+1)*24,:,nSolar+wl] = supp[d*24:(d+1)*24,:,nSolar+wl]/supp[d*24:(d+1)*24,:,nSolar+wl].max();\n",
        "\n",
        "  return medoids, rep_hour_weights, demand, supp;\n",
        "\n"
      ],
      "metadata": {
        "id": "1zHjNsabcXOr"
      },
      "execution_count": 8,
      "outputs": []
    },
    {
      "cell_type": "markdown",
      "source": [
        "Define model,  decision variables, objective function, and constraints.\n"
      ],
      "metadata": {
        "id": "8CWJW0BLJfKx"
      }
    },
    {
      "cell_type": "code",
      "source": [
        "np.random.seed(2025);\n",
        "def define_decision_variables(Model,data):\n",
        "  # define a class to distinguish the variables from parameters\n",
        "  class DV():\n",
        "    z=[]; x_th=[]; x_vre=[]; y_en=[]; y_pow=[];\n",
        "    p_th=[]; p_vre=[]; f=[]; a=[];curt=[]; s_lev=[]; s_ch=[]; s_dis=[];\n",
        "    total_cost = [];\n",
        "    inv_cost_line=[]; inv_cost_th=[]; inv_cost_vre=[]; inv_cost_str=[];\n",
        "    gen_cost=[]; lost_load_cost=[]; curtailment_cost=[];\n",
        "  N = data.N; H = data.H; V = data.V; K = data.K; T = data.T;\n",
        "\n",
        "  DV.z = Model.add_variables(N,N, lb=0, domain=poi.VariableDomain.Continuous);\n",
        "  DV.x_th = Model.add_variables(H,N, lb=0, domain=poi.VariableDomain.Continuous);\n",
        "  DV.x_vre = Model.add_variables(V,N, lb=0, domain=poi.VariableDomain.Continuous);\n",
        "  DV.y_en = Model.add_variables(K,N, lb=0, domain=poi.VariableDomain.Continuous);\n",
        "  DV.y_pow = Model.add_variables(K,N, lb=0, domain=poi.VariableDomain.Continuous);\n",
        "  DV.p_th = Model.add_variables(H,N,T, lb=0, domain=poi.VariableDomain.Continuous);\n",
        "  DV.p_vre = Model.add_variables(V,N,T, lb=0, domain=poi.VariableDomain.Continuous);\n",
        "  DV.f = Model.add_variables(N,N,T, domain=poi.VariableDomain.Continuous); # free variable\n",
        "  DV.a = Model.add_variables(N,T, lb=0, domain=poi.VariableDomain.Continuous);\n",
        "  DV.curt = Model.add_variables(V, N,T, lb=0, domain=poi.VariableDomain.Continuous);\n",
        "  DV.s_lev = Model.add_variables(K,N,T, lb=0, domain=poi.VariableDomain.Continuous);\n",
        "  DV.s_ch = Model.add_variables(K,N,T, lb=0, domain=poi.VariableDomain.Continuous);\n",
        "  DV.s_dis = Model.add_variables(K,N,T, lb=0, domain=poi.VariableDomain.Continuous);\n",
        "\n",
        "  DV.total_cost = Model.add_variable(lb=0, domain=poi.VariableDomain.Continuous);\n",
        "  DV.inv_cost_line = Model.add_variable(lb=0, domain=poi.VariableDomain.Continuous);\n",
        "  DV.inv_cost_th = Model.add_variable(lb=0, domain=poi.VariableDomain.Continuous);\n",
        "  DV.inv_cost_vre = Model.add_variable(lb=0, domain=poi.VariableDomain.Continuous);\n",
        "  DV.inv_cost_str = Model.add_variable(lb=0, domain=poi.VariableDomain.Continuous);\n",
        "  DV.gen_cost = Model.add_variable(lb=0, domain=poi.VariableDomain.Continuous);\n",
        "  DV.lost_load_cost = Model.add_variable(lb=0, domain=poi.VariableDomain.Continuous);\n",
        "  DV.curtailment_cost = Model.add_variable(lb=0, domain=poi.VariableDomain.Continuous);\n",
        "\n",
        "  return DV;\n",
        "\n",
        "def define_objective_function(Model, DV, data):\n",
        "  C_line = data.C_line; C_th = data.C_th; C_vre = data.C_vre; C_en = data.C_en; C_pow = data.C_pow; C_h = data.C_h; C_VoLL = data.C_VoLL; C_curt = data.C_curt;\n",
        "  hours_weights = data.hours_weights; demand = data.demand; CFs = data.CFs;\n",
        "  N = data.N; H = data.H; V = data.V; K = data.K; T = data.T;\n",
        "\n",
        "  Model.add_linear_constraint(DV.inv_cost_line-poi.quicksum(C_line[n,m]*DV.z[n,m] for n in N for m in range(n)),  poi.Eq, 0);\n",
        "  Model.add_linear_constraint(DV.inv_cost_th-poi.quicksum(C_th[h]*DV.x_th[h,n] for h in H for n in N), poi.Eq, 0);\n",
        "  Model.add_linear_constraint(DV.inv_cost_vre-poi.quicksum(C_vre[r]*DV.x_vre[r,n] for r in V for n in N), poi.Eq, 0);\n",
        "  Model.add_linear_constraint(DV.inv_cost_str-poi.quicksum(C_en[k]*DV.y_en[k,n] + C_pow[k]*DV.y_pow[k,n] for k in K for n in N), poi.Eq, 0);\n",
        "\n",
        "  Model.add_linear_constraint(DV.gen_cost-poi.quicksum(hours_weights[t]*poi.quicksum(C_h[h]*DV.p_th[h,n,t] for h in H) for t in T for n in N), poi.Eq, 0);\n",
        "  Model.add_linear_constraint(DV.lost_load_cost-poi.quicksum(hours_weights[t]*C_VoLL*DV.a[n,t] for n in N for t in T), poi.Eq, 0);\n",
        "  Model.add_linear_constraint(DV.curtailment_cost-poi.quicksum(hours_weights[t]*C_curt*DV.curt[r, n,t] for r in V for n in N for t in T), poi.Eq, 0);\n",
        "\n",
        "  Model.add_linear_constraint(DV.total_cost-DV.inv_cost_line-DV.inv_cost_th-DV.inv_cost_vre-DV.inv_cost_str-DV.gen_cost-DV.lost_load_cost-DV.curtailment_cost, poi.Eq, 0);\n",
        "\n",
        "  Model.set_objective(DV.total_cost, poi.ObjectiveSense.Minimize);\n",
        "\n",
        "def add_constraints(Model, DV, data):\n",
        "  N = data.N; H = data.H; V = data.V; K = data.K; T = data.T;\n",
        "  demand = data.demand; CFs = data.CFs; store_eff_ch = data.store_eff_ch; store_eff_dis = data.store_eff_dis;\n",
        "  # balance equation\n",
        "  for n in N:\n",
        "    for t in T:\n",
        "      Model.add_linear_constraint(poi.quicksum(DV.p_th[h,n,t] for h in H) +\n",
        "                                  poi.quicksum(DV.p_vre[r,n,t] for r in V)+\n",
        "                                  poi.quicksum(DV.f[n,m,t] for m in N if m!=n)+\n",
        "                                  poi.quicksum(DV.s_dis[k,n,t]-DV.s_ch[k,n,t] for k in K)+\n",
        "                                  DV.a[n,t], poi.Eq, demand[t,n]);\n",
        "  # generation limit\n",
        "  for n in N:\n",
        "    for t in T:\n",
        "      for h in H:\n",
        "        Model.add_linear_constraint(DV.p_th[h,n,t]-DV.x_th[h,n], poi.Leq,  0);\n",
        "      for r in V:\n",
        "        Model.add_linear_constraint(DV.p_vre[r,n,t]+DV.curt[r,n,t]- CFs[t,n,r]*DV.x_vre[r, n], poi.Eq, 0);\n",
        "\n",
        "  # flow limit\n",
        "  for n in N:\n",
        "    for m in range(n):\n",
        "      for t in T:\n",
        "        Model.add_linear_constraint(DV.f[n,m,t]-DV.z[n,m], poi.Leq, 0);\n",
        "        Model.add_linear_constraint(DV.f[n,m,t]+DV.z[n,m], poi.Geq, 0);\n",
        "        Model.add_linear_constraint(DV.f[n,m,t]+DV.f[m,n,t], poi.Eq, 0);\n",
        "      Model.add_linear_constraint(DV.z[n,m]-DV.z[m,n], poi.Eq, 0);\n",
        "\n",
        "  # storage\n",
        "  for k in K:\n",
        "    for n in N:\n",
        "      for t in T:\n",
        "        if t==0:\n",
        "          Model.add_linear_constraint(DV.s_lev[k,n,t]==0);\n",
        "          continue;\n",
        "        Model.add_linear_constraint(DV.s_lev[k,n,t]-DV.s_lev[k,n,t-1]-store_eff_ch[k]*DV.s_ch[k,n,t]+(1/store_eff_dis[k])*DV.s_dis[k,n,t], poi.Eq, 0);\n",
        "        Model.add_linear_constraint(DV.s_lev[k,n,t]- DV.y_en[k,n], poi.Leq,0);\n",
        "        Model.add_linear_constraint(DV.s_ch[k,n,t]- DV.y_pow[k,n], poi.Leq,0);\n",
        "        Model.add_linear_constraint(DV.s_dis[k,n,t]- DV.y_pow[k,n], poi.Leq,0);\n",
        "  # storage installment limit\n",
        "  Model.add_linear_constraint(poi.quicksum(DV.y_pow[k,n] for k in K for n in N), poi.Leq, 0.5*np.max(demand.max()));"
      ],
      "metadata": {
        "id": "2EuJgHy3RDcn"
      },
      "execution_count": 9,
      "outputs": []
    },
    {
      "cell_type": "markdown",
      "source": [
        "plotting functions:"
      ],
      "metadata": {
        "id": "WgjWKjyccs4N"
      }
    },
    {
      "cell_type": "code",
      "source": [
        "np.random.seed(2025);\n",
        "def plot_bar_chart(Model, data):\n",
        "  H = data.H; nSolar=data.nSolar; nWind=data.nWind; nN=data.nN; N = data.N; K = data.K;\n",
        "  nH = data.nH; nV = data.nV; nK = data.nK;\n",
        "  # create labels and colors for different types\n",
        "  labels = [f'thermal {i+1}' for i in H]+ \\\n",
        "  [f'Solar {i+1}' for i in range(nSolar)]+\\\n",
        "  [f'Wind {i+1}' for i in range(nWind)]+ [f'Storage {i+1}' for i in K];\n",
        "  # print(labels);\n",
        "\n",
        "  #  colormaps objects\n",
        "  thermal_cmap = plt.colormaps.get_cmap('copper'); # Greys for thermal (coal, gas, nuclear, etc).\n",
        "  solar_cmap = plt.colormaps.get_cmap('Wistia'); # yellow spectrum for solar\n",
        "  wind_cmap = plt.colormaps.get_cmap('summer'); # green and blue for wind\n",
        "  storage_cmap = plt.colormaps.get_cmap('plasma'); # purplish for storage\n",
        "  colors = [thermal_cmap(i/nH) for i in H] + [solar_cmap(i/nSolar) for i in range(nSolar)] +\\\n",
        "  [wind_cmap(i/nWind) for i in range(nWind)]+ [storage_cmap(i/nK) for i in K] ;\n",
        "\n",
        "  new_gen = np.zeros((nN, nH+nV+nK));\n",
        "  for n in N:\n",
        "    for h in H:\n",
        "      new_gen[n,h] = Model.get_value(DV.x_th[h,n]);\n",
        "    for r in range(nSolar):\n",
        "      new_gen[n,nH+r] = Model.get_value(DV.x_vre[r,n]);\n",
        "    for r in range(nWind):\n",
        "      new_gen[n,nH+nSolar+r] = Model.get_value(DV.x_vre[r+nSolar,n]);\n",
        "    for k in K:\n",
        "      new_gen[n,nH+nV+k] = Model.get_value(DV.y_pow[k,n]);\n",
        "\n",
        "  fig, ax = plt.subplots(nrows=1, ncols=1, figsize=(6, 3),\n",
        "                        gridspec_kw={'width_ratios': [10],'height_ratios': [5],\n",
        "                        'wspace': 0.1,'hspace': 0.1});\n",
        "\n",
        "  bt = np.zeros(nN);\n",
        "  for g in range(nH+nV+nK):\n",
        "    ax.bar(N, new_gen[:, g], bottom=bt, width=0.5, color=colors[g], label=labels[g]);\n",
        "    bt = bt + new_gen[:, g];\n",
        "  ax.set_ylim(0, 1.1*max(new_gen.sum(axis=1)));\n",
        "  ax.set_ylabel('Capacity (MW)', fontsize=9, fontweight='bold');\n",
        "  ax.set_xlabel('Node', fontsize=9, fontweight='bold');\n",
        "  ax.legend(ncol=1, bbox_to_anchor=(1, 1), prop={'size':8});\n",
        "\n",
        "def visualize_new_line_capacity(Model, data):\n",
        "  nN = data.nN; N = data.N;\n",
        "  # Extract results for visualization\n",
        "  line_cap = np.zeros((nN, nN))\n",
        "  for n in N:\n",
        "      for m in range(n):\n",
        "          line_cap[n,m] = Model.get_value(DV.z[n,m]);\n",
        "          line_cap[m,n] = line_cap[n,m];\n",
        "\n",
        "  # Create the network\n",
        "  G = nx.Graph();\n",
        "  G.add_nodes_from(N);  # define nodes\n",
        "  pos = nx.spring_layout(G); # node positions. Can be replaced by actual coordinates\n",
        "  fig, ax = plt.subplots(nrows=1, ncols=1, figsize=(4, 2),\n",
        "                        gridspec_kw={'width_ratios': [5],'height_ratios': [5],\n",
        "                        'wspace': 0.1,'hspace': 0.1}); # draw the network\n",
        "\n",
        "  # Add lines\n",
        "  edges=[];\n",
        "  for n in N:\n",
        "      for m in range(n):\n",
        "          if line_cap[n, m] > 1: # add edge only if the new cap is substantial\n",
        "              G.add_edge(n, m, capacity=round(line_cap[n, m]));\n",
        "              edges.append((n, m, round(line_cap[n, m])));\n",
        "\n",
        "  # Draw edges with thickness proportional to capacity\n",
        "  edge_widths = [d['capacity']/1000 for (u, v, d) in G.edges(data=True)]; # line thickness proportional to capacity\n",
        "  nx.draw_networkx_edges(G, pos, width=edge_widths, edge_color='xkcd:azul');\n",
        "\n",
        "  # add edge labels\n",
        "  nx.draw_networkx_edge_labels(G, pos, edge_labels=nx.get_edge_attributes(G, 'capacity'), font_color='xkcd:burgundy');\n",
        "\n",
        "  # draw nodes and add labels\n",
        "  nx.draw_networkx_nodes(G, pos, node_size=400, node_color='xkcd:desert', alpha=1);\n",
        "  nx.draw_networkx_labels(G, pos, font_size=10, font_weight = 'bold');\n",
        "\n"
      ],
      "metadata": {
        "id": "9m-kXZHSZcXN"
      },
      "execution_count": 10,
      "outputs": []
    },
    {
      "cell_type": "markdown",
      "source": [
        "**Initialize the GTEP model, polulate parameters, define the model, solve and post-process**"
      ],
      "metadata": {
        "id": "OBnz8XiuvM_m"
      }
    },
    {
      "cell_type": "code",
      "source": [
        "np.random.seed(2025);\n",
        "s_time = time.time();\n",
        "# set the setting if it is different than the defualt\n",
        "Setting['num_nodes'] = 4;\n",
        "Setting['num_rep_days'] = 5;\n",
        "Setting['num_thermal_types']= 2;\n",
        "Setting['num_storage_types']= 1;\n",
        "\n",
        "dt = Data_Collector(Setting);\n",
        "rep_days, hours_weights, demand, CFs = rep_weights_demand_supply(dt);\n",
        "\n",
        "dt.hours_weights = hours_weights;\n",
        "dt.demand = demand;\n",
        "dt.CFs = CFs;\n",
        "dt.C_line = np.random.randint(20,25,size=(dt.nN,dt.nN)); # CAPEX for lines (\\$/MW)\n",
        "dt.C_line = np.round((dt.C_line + dt.C_line.T)/2); # to make it symmetric\n",
        "dt.C_th = np.random.randint(300, 400,size=dt.nH); # annualized CAPEX for thermal (\\$/MW)\n",
        "dt.C_vre = np.random.randint(300, 2000,size=dt.nV); # annualized CAPEX for VRE (\\$/MW)\n",
        "dt.C_en = np.random.randint(900, 1000,size=dt.nK); # annualized CAPEX for storage energy rating (\\$/MWh)\n",
        "dt.C_pow = np.random.randint(150, 200,size=dt.nK); # annualized  CAPEX for storage power rating (\\$/MW)\n",
        "dt.C_h = np.random.randint(2, 3, size=dt.nH); # marginal generation cost for thermal units [\\$/MWh]\n",
        "dt.C_VoLL = 1e4; # value of lost load [\\$/MWh]\n",
        "dt.C_curt = 1; # renewable curtailment penalty [\\$/MWh]\n",
        "dt.store_eff_ch, dt.store_eff_dis = np.random.uniform(0.8, 0.9, size=dt.nK), np.random.uniform(0.8, 0.9, size=dt.nK); # charge/discharge efficiency\n",
        "\n",
        "\n",
        "# MODEL INSTANCE\n",
        "Model = highs.Model();\n",
        "DV = define_decision_variables(Model, dt);\n",
        "define_objective_function(Model, DV, dt);\n",
        "add_constraints(Model, DV, dt);\n",
        "\n",
        "### SOLVE THE MODEL\n",
        "Model.set_model_attribute(poi.ModelAttribute.Silent, 0);\n",
        "Model.optimize();\n",
        "\n",
        "### POST-PROCESSING\n",
        "print(f'total cost: {round(Model.get_value(DV.total_cost))}, elapsed time: {round(time.time()-s_time)}s');\\\n",
        "print(f'\\nline inv: {round(Model.get_value(DV.inv_cost_line))}, \\\n",
        "thermal inv: {round(Model.get_value(DV.inv_cost_th))}, \\\n",
        "VRE inv:{round(Model.get_value(DV.inv_cost_vre))}, storage: {round(Model.get_value(DV.inv_cost_str))}');\n",
        "\n",
        "print(f'generation cost (thermal): {round(Model.get_value(DV.gen_cost))} \\\n",
        "lost load cost: {round(Model.get_value(DV.lost_load_cost))}, \\\n",
        "curtailment: {round(Model.get_value(DV.curtailment_cost))}');\n",
        "\n",
        "gen_th=np.zeros(dt.nH, dtype=int); gen_solar=np.zeros(dt.nSolar, dtype=int); gen_wind=np.zeros(dt.nWind, dtype=int);\n",
        "\n",
        "for n in dt.N:\n",
        "  for t in dt.T:\n",
        "    for h in dt.H:\n",
        "      gen_th[h] += Model.get_value(DV.p_th[h,n,t]);\n",
        "    for r in range(dt.nSolar):\n",
        "      gen_solar[r] += Model.get_value(DV.p_vre[r,n,t]);\n",
        "    for r in range(dt.nWind):\n",
        "      gen_wind[r] += Model.get_value(DV.p_vre[r+dt.nSolar,n,t]);\n",
        "\n",
        "print(f'\\n thermal: {gen_th}, solar: {gen_solar}, wind: {gen_wind}, total gen: {gen_th.sum()+gen_solar.sum()+gen_wind.sum()}, total load: {round(np.sum(demand.sum()))}');\n"
      ],
      "metadata": {
        "id": "3xvdKGwMrIBs",
        "outputId": "1b6937b9-fa58-4a0c-9277-5427c91fb820",
        "colab": {
          "base_uri": "https://localhost:8080/"
        }
      },
      "execution_count": 12,
      "outputs": [
        {
          "output_type": "stream",
          "name": "stdout",
          "text": [
            "total cost: 75725676, elapsed time: 2s\n",
            "\n",
            "line inv: 432400, thermal inv: 2931796, VRE inv:35646600, storage: 2215118\n",
            "generation cost (thermal): 26433410 lost load cost: 0, curtailment: 8066352\n",
            "\n",
            " thermal: [134987      0], solar: [93962], wind: [1836295], total gen: 2065244, total load: 1979028\n"
          ]
        }
      ]
    },
    {
      "cell_type": "markdown",
      "source": [
        "Analyze the outcome"
      ],
      "metadata": {
        "id": "rlNfBmZjYbMt"
      }
    },
    {
      "cell_type": "code",
      "source": [
        "plot_bar_chart(Model, dt);\n",
        "visualize_new_line_capacity(Model, dt);"
      ],
      "metadata": {
        "id": "RfErRXB6t7W5",
        "outputId": "36b54de1-f5bf-41aa-9d69-06fcf810f10e",
        "colab": {
          "base_uri": "https://localhost:8080/",
          "height": 484
        }
      },
      "execution_count": 13,
      "outputs": [
        {
          "output_type": "display_data",
          "data": {
            "text/plain": [
              "<Figure size 600x300 with 1 Axes>"
            ],
            "image/png": "[encoded data removed]"
          },
          "metadata": {}
        },
        {
          "output_type": "display_data",
          "data": {
            "text/plain": [
              "<Figure size 400x200 with 1 Axes>"
            ],
            "image/png": "[encoded data removed]"
          },
          "metadata": {}
        }
      ]
    },
    {
      "cell_type": "markdown",
      "source": [
        "<br><br><br>"
      ],
      "metadata": {
        "id": "SgLf9QgRGRBV"
      }
    },
    {
      "cell_type": "markdown",
      "source": [
        "# **<font color='blue'>3. New Technologies </font>**  <a name=\"tech\"></a>\n",
        "\n",
        "## **Long-Duration Energy Storage (LDES)**\n",
        "\n",
        "LDES technologies can continuously provide power for at elast 10 hours, whereas the existing lithium-ion batteries have a duration of 2-4 hours.\n",
        "\n",
        "Letting $H_k$ to be the duration of battery type $k$, the following constraints imposes duration assumption:\n",
        "\n",
        "$y^{\\text{en}}_{kn}\\leq H_k y^{\\text{pow}}_{kn}, \\qquad k \\in \\mathcal{K}, n \\in \\mathcal{N}$\n",
        "\n",
        "Note: In the following implementation we only consider the duration aspect of these technologies. However, each technology is associated with different operational dynamics cost parameters."
      ],
      "metadata": {
        "id": "-6klqoaVGTsq"
      }
    },
    {
      "cell_type": "code",
      "source": [
        "np.random.seed(2025);\n",
        "s_time = time.time();\n",
        "# set the setting if it is different than the defualt\n",
        "Setting['num_nodes'] = 4;\n",
        "Setting['num_rep_days'] = 5;\n",
        "Setting['num_thermal_types']= 2;\n",
        "Setting['num_storage_types']= 2;\n",
        "\n",
        "dt = Data_Collector(Setting);\n",
        "rep_days, hours_weights, demand, CFs = rep_weights_demand_supply(dt);\n",
        "\n",
        "dt.hours_weights = hours_weights;\n",
        "dt.demand = demand;\n",
        "dt.CFs = CFs;\n",
        "dt.C_line = np.random.randint(20,25,size=(dt.nN,dt.nN)); # CAPEX for lines (\\$/MW)\n",
        "dt.C_line = np.round((dt.C_line + dt.C_line.T)/2); # to make it symmetric\n",
        "dt.C_th = np.random.randint(300, 400,size=dt.nH); # annualized CAPEX for thermal (\\$/MW)\n",
        "dt.C_vre = np.random.randint(300, 2000,size=dt.nV); # annualized CAPEX for VRE (\\$/MW)\n",
        "dt.C_en = np.random.randint(900, 1000,size=dt.nK); # annualized CAPEX for storage energy rating (\\$/MWh)\n",
        "dt.C_pow = np.random.randint(150, 200,size=dt.nK); # annualized  CAPEX for storage power rating (\\$/MW)\n",
        "dt.C_h = np.random.randint(2, 3, size=dt.nH); # marginal generation cost for thermal units [\\$/MWh]\n",
        "dt.C_VoLL = 1e4; # value of lost load [\\$/MWh]\n",
        "dt.C_curt = 1; # renewable curtailment penalty [\\$/MWh]\n",
        "dt.store_eff_ch, dt.store_eff_dis = np.random.uniform(0.8, 0.9, size=dt.nK), np.random.uniform(0.8, 0.9, size=dt.nK); # charge/discharge efficiency\n",
        "\n",
        "# *** NEW PARAMETER\n",
        "storage_durations = [4, 12]; # hours\n",
        "\n",
        "# MODEL INSTANCE\n",
        "Model = highs.Model();\n",
        "DV = define_decision_variables(Model, dt);\n",
        "define_objective_function(Model, DV, dt);\n",
        "add_constraints(Model, DV, dt);\n",
        "\n",
        "# NEW CONSTRAINTS\n",
        "# add new constraints to consider the storage duration\n",
        "for k in range(dt.nK):\n",
        "  for n in dt.N:\n",
        "    Model.add_linear_constraint(DV.y_en[k,n]-storage_durations[k]*DV.y_pow[k,n], poi.Leq, 0);\n",
        "\n",
        "### SOLVE THE MODEL\n",
        "Model.set_model_attribute(poi.ModelAttribute.Silent, 0);\n",
        "Model.optimize();\n",
        "### POST-PROCESSING\n",
        "print(f'total cost: {round(Model.get_value(DV.total_cost))}, elapsed time: {round(time.time()-s_time)}s');\\\n",
        "print(f'\\nline inv: {round(Model.get_value(DV.inv_cost_line))}, \\\n",
        "thermal inv: {round(Model.get_value(DV.inv_cost_th))}, \\\n",
        "VRE inv:{round(Model.get_value(DV.inv_cost_vre))}, storage: {round(Model.get_value(DV.inv_cost_str))}');\n",
        "\n",
        "print(f'generation cost (thermal): {round(Model.get_value(DV.gen_cost))} \\\n",
        "lost load cost: {round(Model.get_value(DV.lost_load_cost))}, \\\n",
        "curtailment: {round(Model.get_value(DV.curtailment_cost))}');\n",
        "\n",
        "gen_th=np.zeros(dt.nH, dtype=int); gen_solar=np.zeros(dt.nSolar, dtype=int); gen_wind=np.zeros(dt.nWind, dtype=int);\n",
        "\n",
        "for n in dt.N:\n",
        "  for t in dt.T:\n",
        "    for h in dt.H:\n",
        "      gen_th[h] += Model.get_value(DV.p_th[h,n,t]);\n",
        "    for r in range(dt.nSolar):\n",
        "      gen_solar[r] += Model.get_value(DV.p_vre[r,n,t]);\n",
        "    for r in range(dt.nWind):\n",
        "      gen_wind[r] += Model.get_value(DV.p_vre[r+dt.nSolar,n,t]);\n",
        "\n",
        "print(f'\\n thermal: {gen_th}, solar: {gen_solar}, wind: {gen_wind}, total gen: {gen_th.sum()+gen_solar.sum()+gen_wind.sum()}, total load: {round(np.sum(demand.sum()))}');\n",
        "\n"
      ],
      "metadata": {
        "id": "M_4oq3NAgvWs",
        "outputId": "2475c012-2543-4272-f883-f9fdf8388d9c",
        "colab": {
          "base_uri": "https://localhost:8080/"
        }
      },
      "execution_count": 14,
      "outputs": [
        {
          "output_type": "stream",
          "name": "stdout",
          "text": [
            "total cost: 75765035, elapsed time: 3s\n",
            "\n",
            "line inv: 430200, thermal inv: 2859015, VRE inv:35739632, storage: 2635136\n",
            "generation cost (thermal): 25776710 lost load cost: 0, curtailment: 8324342\n",
            "\n",
            " thermal: [130607      0], solar: [102395], wind: [1830507], total gen: 2063509, total load: 1979028\n"
          ]
        }
      ]
    },
    {
      "cell_type": "code",
      "source": [
        "plot_bar_chart(Model, dt);\n",
        "visualize_new_line_capacity(Model, dt);"
      ],
      "metadata": {
        "id": "tdY6pWaemSZH",
        "outputId": "52191a8c-5965-4aa3-cadc-d9213227ca58",
        "colab": {
          "base_uri": "https://localhost:8080/",
          "height": 484
        }
      },
      "execution_count": 15,
      "outputs": [
        {
          "output_type": "display_data",
          "data": {
            "text/plain": [
              "<Figure size 600x300 with 1 Axes>"
            ],
            "image/png": "[encoded data removed]"
          },
          "metadata": {}
        },
        {
          "output_type": "display_data",
          "data": {
            "text/plain": [
              "<Figure size 400x200 with 1 Axes>"
            ],
            "image/png": "[encoded data removed]"
          },
          "metadata": {}
        }
      ]
    },
    {
      "cell_type": "markdown",
      "source": [
        "<br><br>"
      ],
      "metadata": {
        "id": "Z5SAg2Ztv36O"
      }
    },
    {
      "cell_type": "markdown",
      "source": [
        "## **Carbon Capture and Storage (CCS)**\n",
        "\n",
        "CCS enables thermal generators such as coal and gas to capture a portion of their emissions.\n",
        "\n",
        "Let $\\zeta_h$ be the emissions factor per MWh for the thermal generator $h\\in \\mathcal{H}. Then the following constraints limits the overall emissions:\n",
        "\n",
        "$\\sum_{h\\in \\mathcal{H}, n\\in \\mathcal{N}, t\\in \\mathcal{T}} \\zeta_h p^h_{hnt} \\leq U^{\\text{emis}}$\n",
        "\n",
        "where $U^{\\text{emis}}$ is the emissions limit for the system.\n",
        "\n",
        "Note: Although in the following implementation we only consider the emissions aspects of CCS, they results in higher capital and operational costs which we don't consider here."
      ],
      "metadata": {
        "id": "oROkwV7poVJe"
      }
    },
    {
      "cell_type": "code",
      "source": [
        "np.random.seed(2025);\n",
        "s_time = time.time();\n",
        "# set the setting if it is different than the defualt\n",
        "Setting['num_rep_days'] = 5;\n",
        "Setting['num_nodes'] = 4;\n",
        "Setting['num_thermal_types']= 2;\n",
        "Setting['num_storage_types']= 2;\n",
        "\n",
        "dt = Data_Collector(Setting);\n",
        "rep_days, hours_weights, demand, CFs = rep_weights_demand_supply(dt);\n",
        "\n",
        "dt.hours_weights = hours_weights;\n",
        "dt.demand = demand;\n",
        "dt.CFs = CFs;\n",
        "dt.C_line = np.random.randint(20,25,size=(dt.nN,dt.nN)); # CAPEX for lines (\\$/MW)\n",
        "dt.C_line = np.round((dt.C_line + dt.C_line.T)/2); # to make it symmetric\n",
        "dt.C_th = np.random.randint(300, 400,size=dt.nH); # annualized CAPEX for thermal (\\$/MW)\n",
        "dt.C_vre = np.random.randint(300, 2000,size=dt.nV); # annualized CAPEX for VRE (\\$/MW)\n",
        "dt.C_en = np.random.randint(900, 1000,size=dt.nK); # annualized CAPEX for storage energy rating (\\$/MWh)\n",
        "dt.C_pow = np.random.randint(150, 200,size=dt.nK); # annualized  CAPEX for storage power rating (\\$/MW)\n",
        "dt.C_h = np.random.randint(2, 3, size=dt.nH); # marginal generation cost for thermal units [\\$/MWh]\n",
        "dt.C_VoLL = 1e4; # value of lost load [\\$/MWh]\n",
        "dt.C_curt = 1; # renewable curtailment penalty [\\$/MWh]\n",
        "dt.store_eff_ch, dt.store_eff_dis = np.random.uniform(0.8, 0.9, size=dt.nK), np.random.uniform(0.8, 0.9, size=dt.nK); # charge/discharge efficiency\n",
        "\n",
        "# *** NEW PARAMETER\n",
        "storage_durations = [4, 12]; # hours\n",
        "emission_per_MWh = [500, 50]; # kg per MWh. Thermal plants: first one is a conventional (e.g., CCGT), second with CCS (CCGT-CCS) that captures most of the emissions\n",
        "# carbon_penalty = 0.5; # dollar per kg of CO2 ($50 per tonne) [if carbon tax considered]\n",
        "\n",
        "# MODEL INSTANCE\n",
        "Model = highs.Model();\n",
        "DV = define_decision_variables(Model, dt);\n",
        "define_objective_function(Model, DV, dt);\n",
        "add_constraints(Model, DV, dt);\n",
        "\n",
        "# NEW CONSTRAINTS\n",
        "# add new constraints to consider the storage duration\n",
        "for k in range(dt.nK):\n",
        "  for n in dt.N:\n",
        "    Model.add_linear_constraint(DV.y_en[k,n]-storage_durations[k]*DV.y_pow[k,n], poi.Leq, 0);\n",
        "\n",
        "# emissions constraint\n",
        "total_possile_emissions = emission_per_MWh[0]*np.sum(demand.sum());\n",
        "Model.add_linear_constraint(poi.quicksum(emission_per_MWh[h]*DV.p_th[h,n,t] for h in dt.H for n in dt.N for t in dt.T), poi.Leq, 0.02*total_possile_emissions);\n",
        "\n",
        "### SOLVE THE MODEL\n",
        "Model.set_model_attribute(poi.ModelAttribute.Silent, 0);\n",
        "Model.optimize();\n",
        "### POST-PROCESSING\n",
        "print(f'total cost: {round(Model.get_value(DV.total_cost))}, elapsed time: {round(time.time()-s_time)}s');\\\n",
        "print(f'\\nline inv: {round(Model.get_value(DV.inv_cost_line))}, \\\n",
        "thermal inv: {round(Model.get_value(DV.inv_cost_th))}, \\\n",
        "VRE inv:{round(Model.get_value(DV.inv_cost_vre))}, storage: {round(Model.get_value(DV.inv_cost_str))}');\n",
        "\n",
        "print(f'generation cost (thermal): {round(Model.get_value(DV.gen_cost))} \\\n",
        "lost load cost: {round(Model.get_value(DV.lost_load_cost))}, \\\n",
        "curtailment: {round(Model.get_value(DV.curtailment_cost))}');\n",
        "\n",
        "gen_th=np.zeros(dt.nH, dtype=int); gen_solar=np.zeros(dt.nSolar, dtype=int); gen_wind=np.zeros(dt.nWind, dtype=int);\n",
        "\n",
        "for n in dt.N:\n",
        "  for t in dt.T:\n",
        "    for h in dt.H:\n",
        "      gen_th[h] += Model.get_value(DV.p_th[h,n,t]);\n",
        "    for r in range(dt.nSolar):\n",
        "      gen_solar[r] += Model.get_value(DV.p_vre[r,n,t]);\n",
        "    for r in range(dt.nWind):\n",
        "      gen_wind[r] += Model.get_value(DV.p_vre[r+dt.nSolar,n,t]);\n",
        "\n",
        "print(f'\\n thermal: {gen_th}, solar: {gen_solar}, wind: {gen_wind}, total gen: {gen_th.sum()+gen_solar.sum()+gen_wind.sum()}, total load: {round(np.sum(demand.sum()))}');\n"
      ],
      "metadata": {
        "id": "TI1nSzGFnPyK",
        "outputId": "6fb889c0-7904-410e-d732-de6806db7971",
        "colab": {
          "base_uri": "https://localhost:8080/"
        }
      },
      "execution_count": 16,
      "outputs": [
        {
          "output_type": "stream",
          "name": "stdout",
          "text": [
            "total cost: 75939448, elapsed time: 3s\n",
            "\n",
            "line inv: 431666, thermal inv: 3031205, VRE inv:35828478, storage: 2716605\n",
            "generation cost (thermal): 25428341 lost load cost: 0, curtailment: 8503152\n",
            "\n",
            " thermal: [29724 98446], solar: [95161], wind: [1841756], total gen: 2065087, total load: 1979028\n"
          ]
        }
      ]
    },
    {
      "cell_type": "code",
      "source": [
        "plot_bar_chart(Model, dt);\n",
        "visualize_new_line_capacity(Model, dt);"
      ],
      "metadata": {
        "id": "JP5CZYjtK2XM",
        "outputId": "106b16fa-261f-4104-aacd-8521a3043af4",
        "colab": {
          "base_uri": "https://localhost:8080/",
          "height": 488
        }
      },
      "execution_count": 17,
      "outputs": [
        {
          "output_type": "display_data",
          "data": {
            "text/plain": [
              "<Figure size 600x300 with 1 Axes>"
            ],
            "image/png": "[encoded data removed]"
          },
          "metadata": {}
        },
        {
          "output_type": "display_data",
          "data": {
            "text/plain": [
              "<Figure size 400x200 with 1 Axes>"
            ],
            "image/png": "[encoded data removed]"
          },
          "metadata": {}
        }
      ]
    },
    {
      "cell_type": "markdown",
      "source": [
        "<br><br><br>"
      ],
      "metadata": {
        "id": "ZgVvtFPMLhpO"
      }
    },
    {
      "cell_type": "markdown",
      "source": [
        "\n",
        "# **<font color='blue'>4. Case Study Questions </font>** <a name=\"questions\"></a>\n",
        "\n",
        "**<font color='red'> Questions </font>**\n",
        "1. Consider a projection of load for 2050, either from the assignment of Case Study 1 or obtained by an approach presented above. Add ramping and unit commitment decisions and compare the outcomes with the GTEPs implemented here in terms of cost components, the share of thermal generation, and transmission line placement.\n",
        "\n",
        "2. Consider a GTEP with $N$ nodes, $L$ lines, $P$ periods(e.g., every 5 years), and $S$ scenarios in which the investment decisions about thermal generators and candidate lines are integer and binary, respectively. Assume that the resulting mixed-integer program is intractable even in high-computing machines. How would you approach to solve this problem, either exactly or approximately, to produce credible decision-support tool? Propose at least two approaches and elaborate on your answer.\n",
        "\n",
        "<br>\n",
        "<br>\n",
        "<br>\n",
        "\n",
        "\n"
      ],
      "metadata": {
        "id": "yOfaBC9iwDdM"
      }
    },
    {
      "cell_type": "markdown",
      "source": [
        "# **<font color='blue'>5. References and Further Reading </font>** <a name=\"references\"></a>\n",
        "\n",
        "\n",
        "- Conejo, A. J., Baringo, L., Kazempour, S. J., & Siddiqui, A. S. (2016). Investment in electricity generation and transmission. ([link](https://link.springer.com/book/10.1007/978-3-319-29501-5))\n",
        "- Sun, X. A., & Conejo, A. J. (2021). Robust optimization in electric energy systems (Vol. 313). Cham: Springer.([link](https://link.springer.com/book/10.1007/978-3-030-85128-6))\n",
        "- Koltsaklis, N. E., & Dagoumas, A. S. (2018). State-of-the-art generation expansion planning: A review. Applied energy, 230, 563-589. ([link](https://www.sciencedirect.com/science/article/pii/S0306261918312583?casa_token=4mOJwD3ZvRAAAAAA:nLxeoE76zLAzzTq8b_XglZDchlIrEoxYx5e2cLUm0T0e0e6o5JX8ISWkD_RmZ9npAGRS4HkDOg))\n",
        "- Teichgraeber, H., & Brandt, A. R. (2022). Time-series aggregation for the optimization of energy systems: Goals, challenges, approaches, and opportunities. Renewable and Sustainable Energy Reviews, 157, 111984. ([link](https://www.sciencedirect.com/science/article/pii/S1364032121012478?casa_token=fj4drRB6RgsAAAAA:Z5Q2D3403Qp4t9JHIB7EuhShwIMvZpNbm2AGR9O0hMP9VW0nNn4eMg9qrbPCJwOteWKr15kq9g))\n",
        "\n",
        "\n",
        "<br>\n",
        "<br>\n",
        "<br>\n",
        "<br>\n",
        "<br>\n",
        "<br>\n",
        "<br>\n",
        "<br>\n",
        "<br>\n",
        "<br>\n",
        "<br>\n",
        "\n"
      ],
      "metadata": {
        "id": "x7YmgBIewElp"
      }
    }
  ]
}