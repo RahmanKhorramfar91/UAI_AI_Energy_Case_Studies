{
  "nbformat": 4,
  "nbformat_minor": 0,
  "metadata": {
    "colab": {
      "provenance": [],
      "include_colab_link": true
    },
    "kernelspec": {
      "name": "python3",
      "display_name": "Python 3"
    },
    "language_info": {
      "name": "python"
    }
  },
  "cells": [
    {
      "cell_type": "markdown",
      "metadata": {
        "id": "view-in-github",
        "colab_type": "text"
      },
      "source": [
        "<a href=\"https://colab.research.google.com/github/RahmanKhorramfar91/UAI_AI_Energy_Case_Studies/blob/main/Case%20Study%203%20-%20Power%20Grid%20Operations.ipynb\" target=\"_parent\"><img src=\"https://colab.research.google.com/assets/colab-badge.svg\" alt=\"Open In Colab\"/></a>"
      ]
    },
    {
      "cell_type": "markdown",
      "source": [
        "# **Case Study 3 - Universal AI, AI and Sustainability: Energy**"
      ],
      "metadata": {
        "id": "nmn2HhSmy3r5"
      }
    },
    {
      "cell_type": "markdown",
      "source": [
        "This case study is prepared by [Rahman Khorramfar](https://www.rahmankhorramfar.com/) for the ***AI and Sustainability: Energy*** module instructed by Professor [Saurabh Amin](https://cee.mit.edu/people_individual/saurabh-amin/). The module is part of the Universal AI course.\n",
        "\n",
        "My email for questions, suggestions, and comments: khorram@mit.edu"
      ],
      "metadata": {
        "id": "Fw3uIXtoy6PT"
      }
    },
    {
      "cell_type": "markdown",
      "source": [
        "## About the Case Study\n",
        "\n",
        "This case study focuses on the planning and optimization of energy systems, which represent downstream applications leveraging the outputs of forecasting and outlier detection. Specifically, we delve into Economic Dispatch (ED) and Unit Commitment (UC) problems, widely employed by various entities to minimize electricity generation costs while ensuring system reliability and meeting demand. Efficient solutions to these problems ultimately enhance the social welfare of all stakeholders, including generators, regulators, and consumers.\n",
        "\n",
        "We began with a short background and motivation for these problems to highlight their importance and how different market structures may approach each problem.\n",
        "We then provide implementation for each model under deterministic, stochastic, and robust paradigms. It's important to note that these models and implementations are generalized frameworks, serving as foundations for more specialized models used in practice. While the typical planning horizons differ (5-15 minutes for ED, 1-3 hours with a day-to-week horizon for UC), for presentation convenience, we **solve them over a single day** on an hourly basis. For the ease of presentation, we present these model **without the network structure** that characterizes the real-world applications.\n",
        "The case study concludes with questions that to add new constraints to the UC problem, and compare the out-of-sample performance for different modeling approaches.\n"
      ],
      "metadata": {
        "id": "4kzTTWtby9I2"
      }
    },
    {
      "cell_type": "markdown",
      "source": [
        "**Overview of the content**:\n",
        "\n",
        "1. [Background and Motivation](#background)\n",
        "2. [Getting Started](#getting_started)\n",
        "3. [Economic Dispatch](#ED)\n",
        "4. [Unit Commitment](#UC)\n",
        "5. [Value of Stochastic Solution (VSS)](#VSS)\n",
        "8. [Case Study Questions](#questions)\n",
        "9. [References and Further Reading](#references)"
      ],
      "metadata": {
        "id": "Ha7CKMAwy_X7"
      }
    },
    {
      "cell_type": "markdown",
      "source": [
        "# **<font color='blue'>1. Background and Motivation </font>** [<a name=\"background\"></a>](https://)\n",
        "\n",
        "There are two primary structural approaches to managing the electricity supply chain and its market.\n",
        "\n",
        "## **Vertically Integrated Utilities (VIU)**\n",
        "Vertically integrated utilities are state or private companies that own and control the electricity supply chain, including generation, transmission, and distribution. This model leads to a monopoly regulated by the government to ensure fair prices and reliable service, thus offering benefits such as seamless coordination along the supply chain, lower financial risks, and predictable long-term planning. However, it comes with a slew of drawbacks including:\n",
        "\n",
        "- Guaranteed customer base leads to **little incentive for innovation**\n",
        "- No competition leads to inefficiencies and slower technology adoption, thus **higher prices** in the long run\n",
        "- The monopoly leaves the customers with no choice, **exposed them to risk** associated with market volatility and price shifts.\n",
        "- Managing a large supply chain by a single entity can lead to organizational complexity and higher bureaucracy, which can add **uncertainty** and make planning more difficult.\n",
        "\n",
        "In response to these issues, the US Federal Energy Regulatory Commission (FERC) implemented a [series of reforms in the late 1990s](https://www.ferc.gov/power-sales-and-markets/rtos-and-isos#:~:text=Regional%20Transmission%20Organizations/Independent%20System,become%20a%20Regional%20Transmission%20Organization.) to:\n",
        "- promote transparency in operations and price setting\n",
        "- unbundle transmission from generation and distribution\n",
        "- mandate fair use of transmission by all market participants\n",
        "- encourage the formation of Independent System Operators (ISOs)\n",
        "\n",
        "## **Independent System Operator (ISO)**\n",
        "[ISOs](https://www.ferc.gov/electric-power-markets) are non-profit, independent entities that are regulated by FERC (except ERCOT in Texas), manage the wholesale market, and ensure grid reliability. They operate and facilitate non-discriminatory access to transmission lines which are typically owned by other entities\n",
        " Generally, the operations of ISOs involve managing a multi-layered market, monitoring grid operations, forecasting (load, renewable generation, and line congestion), and conducting long-term planning studies. The market management consists of the following layers:\n",
        "- Real-Time (RT): given available generators, adjust generation to match the demand by solving **Economic Dispatch (ED)** problem every 5-15 minutes for the next few periods\n",
        "- Day-Ahead (DA): schedule generators for each hour of the next day (or week) by solving **Unit Commitment (UC)** problem\n",
        "- Ancillary Service  and Capacity Market (some ISOs): these are additional markets offered by some ISOs to secure reserves that support grid reliability and mitigate unexpected fluctuations\n",
        "\n",
        "**Same Model, Different Mindsets**\n",
        "While both VIU and ISO solve EC and UC with the same fundamental goals (schedule generators and meet demand at the lowest cost), they differ in the context and objectives. For example, VIU minimizes total production cost while ISO sets prices and maximizes the social welfare."
      ],
      "metadata": {
        "id": "psJrkCfHzEbV"
      }
    },
    {
      "cell_type": "markdown",
      "source": [
        "# **<font color='blue'>2. Getting Started </font>**  <a name=\"getting_started\"></a>\n",
        "\n",
        "Like previous case studies, we will work with the historical ISONE data available at [the GitHub repository](https://github.com/RahmanKhorramfar91/UAI_AI_Energy_Case_Studies).\n",
        "\n"
      ],
      "metadata": {
        "id": "_9w5g7OKzGPj"
      }
    },
    {
      "cell_type": "code",
      "execution_count": 1,
      "metadata": {
        "id": "0l_kcuW8yhQp"
      },
      "outputs": [],
      "source": [
        "import numpy as np; # for scientific computing\n",
        "import pandas as pd; # for data science\n",
        "import matplotlib.pyplot as plt; # for plotting\n",
        "from statsmodels.tsa.seasonal import seasonal_decompose; # for statistical models including forecasting\n",
        "from statsmodels.tsa.stattools import adfuller;\n",
        "from statsmodels.tsa.arima.model import ARIMA;\n",
        "import xgboost as xgb; # for XGBoos technique\n",
        "from xgboost import plot_importance, plot_tree;\n",
        "import os; # for directory control\n",
        "import zipfile; # to handle zip files\n",
        "import time;\n",
        "import tensorflow as tf; # tensorflow\n",
        "from tensorflow.keras.models import Sequential;\n",
        "from tensorflow.keras.layers import *;\n",
        "from tensorflow.keras.callbacks import ModelCheckpoint;\n",
        "from tensorflow.keras.losses import MeanSquaredError;\n",
        "from tensorflow.keras.metrics import RootMeanSquaredError;\n",
        "from tensorflow.keras.optimizers import Adam;\n",
        "from statsmodels.graphics.tsaplots import plot_acf, plot_pacf; # for ACF and PACF plots used in ARIMA\n",
        "np.random.seed(2025);"
      ]
    },
    {
      "cell_type": "markdown",
      "source": [
        "Make sure to install the [`pyoptinterface` package](https://metab0t.github.io/PyOptInterface/index.html), which is an open-source Python library that provides a unified and [high-performance](https://metab0t.github.io/PyOptInterface/benchmark.html) interface. Similar to Pyomo in Python and JuMP in Julia, this package makes switching between solvers much easier."
      ],
      "metadata": {
        "id": "XuTs9W6inwaB"
      }
    },
    {
      "cell_type": "code",
      "source": [
        "# install and fetch the pyoptinterface, an open-source Python library that provides a unified, high-performance interface\n",
        "!pip install pyoptinterface[highs]\n",
        "import pyoptinterface as poi;\n",
        "from pyoptinterface import highs;"
      ],
      "metadata": {
        "id": "pSbORmBOkCU-",
        "colab": {
          "base_uri": "https://localhost:8080/"
        },
        "outputId": "ac790454-47ad-4497-b77a-938cc621c322"
      },
      "execution_count": 2,
      "outputs": [
        {
          "output_type": "stream",
          "name": "stdout",
          "text": [
            "Collecting pyoptinterface[highs]\n",
            "  Downloading pyoptinterface-0.5.0-cp312-abi3-manylinux2014_x86_64.manylinux_2_17_x86_64.whl.metadata (7.1 kB)\n",
            "Collecting highsbox (from pyoptinterface[highs])\n",
            "  Downloading highsbox-1.11.0-py3-none-manylinux2014_x86_64.whl.metadata (504 bytes)\n",
            "Downloading highsbox-1.11.0-py3-none-manylinux2014_x86_64.whl (6.6 MB)\n",
            "\u001b[2K   \u001b[90m━━━━━━━━━━━━━━━━━━━━━━━━━━━━━━━━━━━━━━━━\u001b[0m \u001b[32m6.6/6.6 MB\u001b[0m \u001b[31m11.8 MB/s\u001b[0m eta \u001b[36m0:00:00\u001b[0m\n",
            "\u001b[?25hDownloading pyoptinterface-0.5.0-cp312-abi3-manylinux2014_x86_64.manylinux_2_17_x86_64.whl (2.4 MB)\n",
            "\u001b[2K   \u001b[90m━━━━━━━━━━━━━━━━━━━━━━━━━━━━━━━━━━━━━━━━\u001b[0m \u001b[32m2.4/2.4 MB\u001b[0m \u001b[31m25.6 MB/s\u001b[0m eta \u001b[36m0:00:00\u001b[0m\n",
            "\u001b[?25hInstalling collected packages: highsbox, pyoptinterface\n",
            "Successfully installed highsbox-1.11.0 pyoptinterface-0.5.0\n"
          ]
        }
      ]
    },
    {
      "cell_type": "markdown",
      "source": [
        "Clone the repo, summon the data for the intended year, and add some temporal features."
      ],
      "metadata": {
        "id": "ceHkIdGLo_iL"
      }
    },
    {
      "cell_type": "code",
      "source": [
        "!git clone 'https://github.com/RahmanKhorramfar91/UAI_AI_Energy_Case_Studies.git';\n",
        "zip_file_path = os.getcwd()+'/UAI_AI_Energy_Case_Studies/load_time_series_data_ISONE_2000-2023.zip';\n",
        "extract_dir = os.getcwd()+'/load_time_series_data_ISONE_2000-2023';\n",
        "with zipfile.ZipFile(zip_file_path, 'r') as zip_ref:\n",
        "    zip_ref.extractall(extract_dir);\n"
      ],
      "metadata": {
        "colab": {
          "base_uri": "https://localhost:8080/"
        },
        "id": "SY3J07Dfv1D7",
        "outputId": "10fe2b04-56c0-4376-ce10-6190dca98222"
      },
      "execution_count": 3,
      "outputs": [
        {
          "output_type": "stream",
          "name": "stdout",
          "text": [
            "Cloning into 'UAI_AI_Energy_Case_Studies'...\n",
            "remote: Enumerating objects: 76, done.\u001b[K\n",
            "remote: Counting objects: 100% (76/76), done.\u001b[K\n",
            "remote: Compressing objects: 100% (74/74), done.\u001b[K\n",
            "remote: Total 76 (delta 42), reused 0 (delta 0), pack-reused 0 (from 0)\u001b[K\n",
            "Receiving objects: 100% (76/76), 9.61 MiB | 11.85 MiB/s, done.\n",
            "Resolving deltas: 100% (42/42), done.\n"
          ]
        }
      ]
    },
    {
      "cell_type": "markdown",
      "source": [
        "Here, we assume each of the historical records as a possible realization. We randomly sample $nS$ scenarios out of 24 to form our scenario set. Therefore, we assume that the demand/supply parameters in our model is going to take one of its historical values. In practice, however, we may want to go beyong historical records and include synthetic scenarios.\n",
        "\n",
        "We also standardize the irradiance and wind speed to approximate the solar capacity factor."
      ],
      "metadata": {
        "id": "FQvkTexqInHo"
      }
    },
    {
      "cell_type": "code",
      "source": [
        "np.random.seed(2025);\n",
        "nS = 5;\n",
        "selected_day = 200;\n",
        "Scens = np.random.randint(2000, 2024, size=nS);\n",
        "demand = np.zeros((nS, 24));\n",
        "solar_CF = np.zeros((nS, 24));\n",
        "wind_CF = np.zeros((nS, 24));\n",
        "for si, sv in enumerate(Scens):\n",
        "  data = pd.read_csv(f'/content/load_time_series_data_ISONE_2000-2023/load_time_series_data/{sv}_ISONE_load.csv');\n",
        "  data.index = pd.to_datetime(data.date);\n",
        "  data['date'] = data.index;\n",
        "  data['day_of_year'] = data['date'].dt.dayofyear;\n",
        "  demand[si,:] = data['gross_load_MW'][data['day_of_year']==selected_day].to_numpy();\n",
        "  solar_CF[si,:] = data['global_horizontal_irradiance'][data['day_of_year']==selected_day].to_numpy();\n",
        "  solar_CF[si,:] = solar_CF[si,:]/solar_CF[si,:].max();\n",
        "  wind_CF[si,:] = data['10m_wind_speed'][data['day_of_year']==selected_day].to_numpy();\n",
        "  wind_CF[si,:] = wind_CF[si,:]/wind_CF[si,:].max();\n",
        "\n",
        "print(solar_CF[0,:10]);"
      ],
      "metadata": {
        "colab": {
          "base_uri": "https://localhost:8080/"
        },
        "id": "GK3BEQZqbgmr",
        "outputId": "8723b98a-5e76-4a16-b1f9-3cfa974314f5"
      },
      "execution_count": 4,
      "outputs": [
        {
          "output_type": "stream",
          "name": "stdout",
          "text": [
            "[0.         0.         0.         0.         0.         0.01857065\n",
            " 0.13524333 0.32682143 0.5299228  0.7104504 ]\n"
          ]
        }
      ]
    },
    {
      "cell_type": "markdown",
      "source": [
        "# **<font color='blue'>3. Economic Dispatch </font>**  <a name=\"ED\"></a>\n",
        "\n",
        "ED determines the power generation from each committed generator to meet the electricity demand at the lowest operating cost under power system constraints.\n"
      ],
      "metadata": {
        "id": "TkbGWz9iwUbS"
      }
    },
    {
      "cell_type": "markdown",
      "source": [
        "\n",
        "## Simplest Form\n",
        "\n",
        "**Sets**\n",
        "- $\\mathcal{G}$: generators, indexed by $g$\n",
        "- $\\mathcal{T}$: planning hours, indexed by $t$\n",
        "\n",
        "**Parameters**\n",
        "- $c_g$: Marginal generation cost [\\$/MWh]\n",
        "- $c^{\\text{VoLL}}$: value of lost load [\\$/MWh]\n",
        "- $P^{\\text{min}}_g$: minimum stable generation, [MW]\n",
        "- $P^{\\text{max}}_g$: nameplate capacity, [MW]\n",
        "- $R^{\\text{up}}_g, R^{\\text{dn}}_g$: ramp-up/down rates [MW/hour]\n",
        "- $D_t$: system demand [MW]       \n",
        "\n",
        "**Variables**\n",
        "- $p_{gt}\\in \\mathbb{R}^+$: power generation [MW]\n",
        "- $a_t \\in \\mathbb{R}^+$: lost load [MW]\n",
        "\n",
        "**<font color='blue'>Mathematical Model </font>**   \n",
        "\n",
        "\\begin{align*}\n",
        "    \\min & \\sum_{g\\in \\mathcal{G}} \\sum_{t\\in \\mathcal{T}} c_g p_{gt} + \\sum_{t\\in \\mathcal{T}}c^{\\text{VoLL}} a_t \\\\\n",
        "    \\text{s.t.} \\ & \\sum_{g\\in \\mathcal{G}} p_{gt} + a_t = D_t & t\\in \\mathcal{T}\\\\\n",
        "    & P^{\\text{min}}_g \\leq p_{gt} \\leq P^{\\text{max}}_g & g\\in \\mathcal{G}, t\\in \\mathcal{T}\\\\\n",
        "    & p_{gt}-p_{g,t-1} \\leq R^{\\text{up}}_g P^{\\text{max}}_g & g\\in \\mathcal{G}, t\\in \\mathcal{T}\\backslash t_0\\\\\n",
        "    & p_{g,t-1}-p_{gt} \\leq R^{\\text{dn}}_g P^{\\text{max}}_g & g\\in \\mathcal{G}, t\\in \\mathcal{T}\\backslash t_0\n",
        "\\end{align*}\n",
        "\n",
        "**<font color='blue'>Note </font>**: We mention that the ISO solves ED to maximize the welfare. However, the model only minimizes the production cost. So why is the discrepancy? The answer lies in the original definition of the objective function, which is:\n",
        "\n",
        "$max \\ U(D)-C(p)$\n",
        "\n",
        "where $U(D)$ is the utility generated by consuming demand and $C(p)$ is the production cost. Since the demand is assumed to be almost inelastic (i.e., increasing the price does not significantly change the consumption) in most situations, the first term simply becomes a constant and can be dropped. In other words, although both market structures seemingly solve similar problems, ISOs solve it as a *market-clearing* problem to determine the price at an equilibrium (more on Section 7 resources).\n",
        "\n",
        "\n"
      ],
      "metadata": {
        "id": "qAc-j9Rlr4sj"
      }
    },
    {
      "cell_type": "markdown",
      "source": [
        "The implementation is given below for the first scenario demand and capacity factors. Note that the naming convention in the coding might differ from its mathematical formulation, and that many values of many parameters are generated randomly which may not resemble their actual quantities in practice."
      ],
      "metadata": {
        "id": "xivWOn2cq6ts"
      }
    },
    {
      "cell_type": "code",
      "source": [
        "np.random.seed(2025);\n",
        "time_stamp = time.time();\n",
        "### SETS\n",
        "nGen = 15;\n",
        "nT = len(demand[0]);\n",
        "\n",
        "### PARAMETERS\n",
        "gen_cost = np.random.randint(low=2, high=5, size=nGen); # marginal generation cost (variable )\n",
        "LL_cost = 1e4;  # penalty for lost load\n",
        "Pmax =  np.random.randint(int(0.5*demand[0].max()/nGen), int(1.5*demand[0].max()/nGen), size=nGen);\n",
        "Pmin = np.zeros(nGen);\n",
        "RampU =  np.random.uniform(low=0.2, high=0.7, size=nGen);\n",
        "RampD =  np.random.uniform(low=0.1, high=0.5, size=nGen);\n",
        "\n",
        "# MODEL INSTANCE\n",
        "Model = highs.Model();\n",
        "\n",
        "### DECISION VARIABLES\n",
        "# define a class to distinguish the variables from parameters\n",
        "class DV(): prod=[]; LL=[]; obj=[];\n",
        "\n",
        "DV.prod = Model.add_variables(range(nGen), range(nT), lb = 0,domain=poi.VariableDomain.Continuous); #production, continuous positive variable\n",
        "DV.LL = Model.add_variables(range(nT), lb = 0, domain=poi.VariableDomain.Continuous); # lost load (shedding), continuous positive variable\n",
        "DV.obj = Model.add_variable(domain=poi.VariableDomain.Continuous); # objective function, free variable\n",
        "\n",
        "### OBJECTIVE FUNCTION\n",
        "obj = poi.ExprBuilder();\n",
        "obj += poi.quicksum(poi.quicksum(gen_cost[g]*DV.prod[g,t] for g in range(nGen)) + LL_cost*DV.LL[t] for t in range(nT));\n",
        "Model.add_linear_constraint(DV.obj-obj, poi.Eq, 0);\n",
        "Model.set_objective(DV.obj, poi.ObjectiveSense.Minimize)\n",
        "\n",
        "### CONSTRAINTS\n",
        "# balance equation\n",
        "for t in range(nT):\n",
        "  Model.add_linear_constraint(poi.quicksum(DV.prod[g,t] for g in range(nGen))+DV.LL[t], poi.Eq, demand[0,t]);\n",
        "\n",
        "# production capacity\n",
        "for g in range(nGen):\n",
        "  for t in range(nT):\n",
        "    Model.add_linear_constraint(DV.prod[g,t], poi.Leq, Pmax[g]);\n",
        "    Model.add_linear_constraint(DV.prod[g,t], poi.Geq, Pmin[g]);\n",
        "\n",
        "# ramping\n",
        "for g in range(nGen):\n",
        "  for t in range(1, nT):\n",
        "    Model.add_linear_constraint(DV.prod[g,t]-DV.prod[g,t-1], poi.Leq, RampU[g]*Pmax[g]);\n",
        "    Model.add_linear_constraint(DV.prod[g,t-1]-DV.prod[g,t], poi.Leq, RampD[g]*Pmax[g]);\n",
        "\n",
        "### SOLVE THE MODEL\n",
        "Model.optimize();\n",
        "\n",
        "### POST-PROCESSING\n",
        "# calculate total generation and load shedding\n",
        "total_gen, lost_load = 0, 0;\n",
        "for t in range(nT):\n",
        "    for g in range(nGen): total_gen += Model.get_value(DV.prod[g,t]);\n",
        "    lost_load += Model.get_value(DV.LL[t]);\n",
        "\n",
        "print(f'Objective value: {np.round(Model.get_value(obj),1)}, \\t Elapsed time: {np.round(time.time()-time_stamp, 2)} (s)');\n",
        "print(f'Generation: {round(total_gen)} MWh, \\t lost load: {round(lost_load)} MWh,\\t total load: {round(demand[0].sum())}');"
      ],
      "metadata": {
        "colab": {
          "base_uri": "https://localhost:8080/"
        },
        "id": "Gw5R5fhlwQdn",
        "outputId": "f80cdcee-6ddf-476a-9ba8-ae93d4d37d47"
      },
      "execution_count": 7,
      "outputs": [
        {
          "output_type": "stream",
          "name": "stdout",
          "text": [
            "Objective value: 1027362.5, \t Elapsed time: 0.04 (s)\n",
            "Generation: 358793 MWh, \t lost load: 0 MWh,\t total load: 358793\n"
          ]
        }
      ]
    },
    {
      "cell_type": "markdown",
      "source": [
        "<br><br>"
      ],
      "metadata": {
        "id": "djZVNtIInzsl"
      }
    },
    {
      "cell_type": "markdown",
      "source": [
        "## ED with Variable Renewables Energy (VRE) and Storage\n",
        "\n",
        "**New Sets**\n",
        "- $\\mathcal{H}$: thermal generators, indexed by $g$\n",
        "- $\\mathcal{V}$: variable renewables, indexed by $g$\n",
        "- $\\mathcal{G} = \\mathcal{H} \\cup \\mathcal{V}$: all generators\n",
        "\n",
        "**New Variables**\n",
        "\n",
        "- $s^{\\text{soc}}_t \\in \\mathbb{R}^+$: storage state of charge (level), [MWh]\n",
        "- $s^{\\text{ch}}_t, s^{\\text{dis}}_t \\in \\mathbb{R}^+$: storage charge/discharge, [MW]\n",
        "\n",
        "**New Parameters**\n",
        "- $\\rho_{gt}$: capacity factor for renewables [MW]\n",
        "- $y^{\\text{lev}}, y^{\\text{ch}},y^{\\text{dis}}$: storage energy and charge/discharge capacity, [MWh] and [MW]\n",
        "- $\\gamma^{\\text{ch}}, \\gamma^{\\text{dis}}$: charge/discharge efficiency       \n",
        "\n",
        "**<font color='blue'>Mathematical Model </font>**   \n",
        "    \\begin{align}\n",
        "    \\min & \\sum_{g\\in \\mathcal{H}} \\sum_{t\\in \\mathcal{T}} c_g p_{gt} + \\sum_{t\\in \\mathcal{T}}c^{\\text{VoLL}} a_t\\\\\n",
        "    \\text{s.t.} \\ & \\sum_{g\\in \\mathcal{G}} p_{gt} + s^{\\text{dis}}_t - s^{\\text{ch}}_t+a_t = D_t & t\\in \\mathcal{T}\\\\\n",
        "    & P^{\\text{min}}_g \\leq p_{gt} \\leq P^{\\text{max}}_g & g\\in \\mathcal{G}, t\\in \\mathcal{T}\\\\\n",
        "    & p_{gt}-p_{g,t-1} \\leq R^{\\text{up}}_g P^{\\text{max}}_g, \\qquad  p_{g,t-1}-p_{gt} \\leq R^{\\text{dn}}_g P^{\\text{max}}_g & g\\in \\mathcal{H}, t\\in \\mathcal{T}\\backslash t_0\\\\\n",
        "    & p_{gt}\\leq \\rho_{gt}P^{\\text{max}}_g & g\\in \\mathcal{V}, t\\in \\mathcal{T}\\\\\n",
        "    &s^{\\text{soc}}_t = s^{\\text{soc}}_{t-1}+ \\gamma^{\\text{ch}} s^{\\text{ch}}_t - \\frac{s^{\\text{dis}}_t}{\\gamma^{\\text{dis}}}, \\qquad s^{\\text{soc}}_0=0& t\\in \\mathcal{T}\\backslash t_0\\\\\n",
        "    &s^{\\text{soc}}_t\\leq y^{\\text{lev}}, \\quad s^{\\text{ch}}_t\\leq y^{\\text{ch}} ,\\quad s^{\\text{ch}}_t\\leq  y^{\\text{dis}}& t\\in \\mathcal{T}\n",
        "\\end{align}\n"
      ],
      "metadata": {
        "id": "2hI9J-2noHvF"
      }
    },
    {
      "cell_type": "code",
      "source": [
        "np.random.seed(2025);\n",
        "time_stamp = time.time();\n",
        "### SETS\n",
        "nThermal = 10;\n",
        "nSolar = 5;\n",
        "nWind = 5;\n",
        "nT = len(demand[0]);\n",
        "\n",
        "### PARAMETERS\n",
        "gen_cost = np.random.randint(low=2, high=5, size=nGen); # marginal generation cost (variable )\n",
        "LL_cost = 1e4;  # penalty for lost load\n",
        "Pmax =  np.random.randint(int(0.2*demand.max()/nThermal), int(demand.max()/nThermal), size=nThermal+nSolar+nWind);\n",
        "Pmin = np.zeros(nThermal+nSolar+nWind);\n",
        "RampU =  np.random.uniform(low=0.2, high=0.7, size=nGen);\n",
        "RampD =  np.random.uniform(low=0.1, high=0.5, size=nGen);\n",
        "store_level = 0.2*demand[0].max();\n",
        "store_ch, store_dis = store_level/4, store_level/4;\n",
        "store_eff_ch, store_eff_dis = 0.9, 0.9;\n",
        "\n",
        "# MODEL INSTANCE\n",
        "Model = highs.Model();\n",
        "\n",
        "\n",
        "### DECISION VARIABLES\n",
        "# define a class to distinguish the variables from parameters\n",
        "class DV(): prod_thermal=[]; prod_vre=[]; LL=[]; SOC=[]; store_ch=[]; store_dis=[]; obj=[];\n",
        "\n",
        "DV.prod_thermal = Model.add_variables(range(nThermal), range(nT), lb = 0,domain=poi.VariableDomain.Continuous); #production from thermal generators, continuous positive variable\n",
        "DV.prod_sol = Model.add_variables(range(nSolar), range(nT), lb = 0,domain=poi.VariableDomain.Continuous); #production from solar, continuous positive variable\n",
        "DV.prod_wind = Model.add_variables(range(nWind), range(nT), lb = 0,domain=poi.VariableDomain.Continuous); #production from wind, continuous positive variable\n",
        "DV.LL = Model.add_variables(range(nT), lb = 0, domain=poi.VariableDomain.Continuous); # lost load (shedding), continuous positive variable\n",
        "DV.SOC = Model.add_variables(range(nT), lb = 0, domain=poi.VariableDomain.Continuous); # storage state of charge, continuous positive variable\n",
        "DV.store_ch = Model.add_variables(range(nT), lb = 0, domain=poi.VariableDomain.Continuous); # storage charge, continuous positive variable\n",
        "DV.store_dis = Model.add_variables(range(nT), lb = 0, domain=poi.VariableDomain.Continuous); # storage discharge, continuous positive variable\n",
        "DV.obj = Model.add_variable(domain=poi.VariableDomain.Continuous); # objective function, free variable\n",
        "\n",
        "### OBJECTIVE FUNCTION\n",
        "obj = poi.ExprBuilder();\n",
        "obj += poi.quicksum(poi.quicksum(gen_cost[g]*DV.prod_thermal[g,t] for g in range(nThermal)) + LL_cost*DV.LL[t] for t in range(nT));\n",
        "Model.add_linear_constraint(DV.obj-obj, poi.Eq, 0);\n",
        "Model.set_objective(DV.obj, poi.ObjectiveSense.Minimize)\n",
        "\n",
        "### CONSTRAINTS\n",
        "# balance equation\n",
        "for t in range(nT):\n",
        "  Model.add_linear_constraint(\n",
        "      poi.quicksum(DV.prod_thermal[g,t] for g in range(nThermal))+  # generation from thermal plants\n",
        "      poi.quicksum(DV.prod_sol[g,t] for g in range(nSolar))+        # generation from solar\n",
        "      poi.quicksum(DV.prod_wind[g,t] for g in range(nWind))+        # generation from wind\n",
        "      DV.store_dis[t]-DV.store_ch[t]+DV.LL[t],                      # discharge-charge + LL\n",
        "      poi.Eq, demand[0, t]);\n",
        "\n",
        "# production capacity for thermal plants\n",
        "for g in range(nThermal):\n",
        "  for t in range(nT):\n",
        "    Model.add_linear_constraint(DV.prod_thermal[g,t], poi.Leq, Pmax[g]);\n",
        "    Model.add_linear_constraint(DV.prod_thermal[g,t], poi.Geq, Pmin[g]);\n",
        "\n",
        "# ramping\n",
        "for g in range(nThermal):\n",
        "  for t in range(1, nT):\n",
        "    Model.add_linear_constraint(DV.prod_thermal[g,t]-DV.prod_thermal[g,t-1], poi.Leq, RampU[g]*Pmax[g]);\n",
        "    Model.add_linear_constraint(DV.prod_thermal[g,t-1]-DV.prod_thermal[g,t], poi.Leq, RampD[g]*Pmax[g]);\n",
        "\n",
        "# availability for VRE\n",
        "for t in range(nT):\n",
        "  for g in range(nSolar):Model.add_linear_constraint(DV.prod_sol[g,t], poi.Leq, Pmax[g+nThermal]*solar_CF[0, t]);\n",
        "  for g in range(nWind):Model.add_linear_constraint(DV.prod_wind[g,t], poi.Leq, Pmax[g+nThermal+nSolar]*wind_CF[0, t]);\n",
        "\n",
        "# storage\n",
        "for t in range(1, nT):\n",
        "  Model.add_linear_constraint(DV.SOC[t]-DV.SOC[t-1]-store_eff_ch*DV.store_ch[t]+DV.store_dis[t]/store_eff_dis, poi.Eq, 0);\n",
        "\n",
        "Model.add_linear_constraint(DV.SOC[0], poi.Eq,0);\n",
        "for t in range(nT):\n",
        "  Model.add_linear_constraint(DV.SOC[t], poi.Leq, store_level);\n",
        "  Model.add_linear_constraint(DV.store_ch[t], poi.Leq, store_ch);\n",
        "  Model.add_linear_constraint(DV.store_dis[t], poi.Leq, store_dis);\n",
        "\n",
        "### SOLVE THE MODEL\n",
        "Model.optimize();\n",
        "\n",
        "### POST-PROCESSING\n",
        "# calculate total generation and load shedding\n",
        "total_thermal_gen, lost_load = 0, 0;\n",
        "total_VRE_gen = 0;\n",
        "for t in range(nT):\n",
        "    for g in range(nThermal): total_thermal_gen += Model.get_value(DV.prod_thermal[g,t]);\n",
        "    for g in range(nSolar): total_VRE_gen += Model.get_value(DV.prod_sol[g,t]);\n",
        "    for g in range(nWind): total_VRE_gen += Model.get_value(DV.prod_wind[g,t]);\n",
        "    lost_load += Model.get_value(DV.LL[t]);\n",
        "\n",
        "print(f'Objective value: {np.round(Model.get_value(obj),1)}, \\t Elapsed time: {np.round(time.time()-time_stamp, 2)} (s)');\n",
        "print(f'Thermal gen: {round(total_thermal_gen)} MWh,  VRE gen: {round(total_VRE_gen)} MWh,\\\n",
        " \\t lost load: {round(lost_load)} MWh,\\t total load: {round(demand[0].sum())}');"
      ],
      "metadata": {
        "colab": {
          "base_uri": "https://localhost:8080/"
        },
        "id": "xVSzl46kwQE7",
        "outputId": "379c9ff9-81b9-4787-c6f6-f10d4c547840"
      },
      "execution_count": 8,
      "outputs": [
        {
          "output_type": "stream",
          "name": "stdout",
          "text": [
            "Objective value: 428794.3, \t Elapsed time: 0.03 (s)\n",
            "Thermal gen: 188910 MWh,  VRE gen: 169739 MWh, \t lost load: 0 MWh,\t total load: 358793\n"
          ]
        }
      ]
    },
    {
      "cell_type": "markdown",
      "source": [
        "<br><br>"
      ],
      "metadata": {
        "id": "EANlsqhEzZnX"
      }
    },
    {
      "cell_type": "markdown",
      "source": [
        "## Stochastic ED\n",
        "\n",
        "Several parameters and variables are adjusted with a subscript $s$ to indicate their value at scenario $s$\n",
        "\n",
        "\n",
        "**New Sets**\n",
        "- $\\mathcal{S}$: Possible realization scenarios (discrete set)\n",
        "\n",
        "\n",
        "\n",
        "**New Parameters**\n",
        "- $\\pi_s$: scenario probability\n",
        "\n",
        "**<font color='blue'>Mathematical Model </font>**   \n",
        "    \\begin{align}\n",
        "    \\min & \\sum_{s\\in \\mathcal{S}}\\pi_s [ \\sum_{g\\in \\mathcal{H}} \\sum_{t\\in \\mathcal{T}} c_g p_{sgt} + \\sum_{t\\in \\mathcal{T}}c^{\\text{VoLL}} a_{st}]\\\\\n",
        "    \\text{s.t.} \\ & \\sum_{g\\in \\mathcal{G}} p_{sgt} + s^{\\text{dis}}_{st} - s^{\\text{ch}}_{st}+a_{st} = D_{st} & s\\in \\mathcal{S}, t\\in \\mathcal{T}\\\\\n",
        "    & P^{\\text{min}}_g \\leq p_{sgt} \\leq P^{\\text{max}}_g & s\\in \\mathcal{S}, g\\in \\mathcal{G}, t\\in \\mathcal{T}\\\\\n",
        "    & p_{sgt}-p_{sg,t-1} \\leq R^{\\text{up}}_g P^{\\text{max}}_g, \\qquad  p_{sg,t-1}-p_{sgt} \\leq R^{\\text{dn}}_g P^{\\text{max}}_g & s\\in \\mathcal{S}, g\\in \\mathcal{H}, t\\in \\mathcal{T}\\backslash t_0\\\\\n",
        "    & p_{sgt}\\leq \\rho_{sgt}P^{\\text{max}}_g & s\\in \\mathcal{S}, g\\in \\mathcal{V}, t\\in \\mathcal{T}\\\\\n",
        "    &s^{\\text{soc}}_{st} = s^{\\text{soc}}_{s,t-1}+ \\gamma^{\\text{ch}} s^{\\text{ch}}_{st} - \\frac{s^{\\text{dis}}_{st}}{\\gamma^{\\text{dis}}}, \\qquad s^{\\text{soc}}_{s0}=0&s\\in \\mathcal{S}, t\\in \\mathcal{T}\\backslash t_0\\\\\n",
        "    &s^{\\text{soc}}_{st}\\leq y^{\\text{lev}}, \\quad s^{\\text{ch}}_{st}\\leq y^{\\text{ch}} ,\\quad s^{\\text{ch}}_{st}\\leq  y^{\\text{dis}}&s\\in \\mathcal{S}, t\\in \\mathcal{T}\n",
        "\\end{align}\n",
        "\n",
        "**Note that the stochastic ED does not have a here-an-now (stage 1) decisions.**"
      ],
      "metadata": {
        "id": "q_qFtCsj4Edw"
      }
    },
    {
      "cell_type": "markdown",
      "source": [
        "Randomly select $|\\mathcal{S} |$ days, each representing a discrete and independent scenario of demands and capacity factors. Note that we make the independent assumptions for the ease of implementation. In practice, each scenario may represent a possible realization for the same time period.\n"
      ],
      "metadata": {
        "id": "ngghH0Yc7NJi"
      }
    },
    {
      "cell_type": "code",
      "source": [
        "np.random.seed(2025);\n",
        "time_stamp = time.time();\n",
        "### SETS\n",
        "nThermal = 10;\n",
        "nSolar = 5;\n",
        "nWind = 5;\n",
        "nT = len(demand[0]);\n",
        "\n",
        "### PARAMETERS\n",
        "gen_cost = np.random.randint(low=2, high=5, size=nThermal); # marginal generation cost (variable )\n",
        "LL_cost = 1e4;  # penalty for lost load\n",
        "Pmax =  np.random.randint(int(0.2*demand.max()/nThermal), int(demand.max()/nThermal), size=nThermal+nSolar+nWind);\n",
        "Pmin = np.zeros(nThermal+nSolar+nWind);\n",
        "RampU =  np.random.uniform(low=0.2, high=0.7, size=nThermal);\n",
        "RampD =  np.random.uniform(low=0.1, high=0.5, size=nThermal);\n",
        "store_level = 0.2*demand.max();\n",
        "store_ch, store_dis = store_level/4, store_level/4;\n",
        "store_eff_ch, store_eff_dis = 0.9, 0.9;\n",
        "probs = np.random.dirichlet(np.ones(nS), size=1)[0];\n",
        "\n",
        "# MODEL INSTANCE\n",
        "Model = highs.Model();\n",
        "\n",
        "\n",
        "### DECISION VARIABLES\n",
        "# define a class to distinguish the variables from parameters\n",
        "class DV(): prod_thermal=[]; prod_vre=[]; LL=[]; SOC=[]; store_ch=[]; store_dis=[]; objs=[];\n",
        "\n",
        "DV.prod_thermal = Model.add_variables(range(nS), range(nThermal), range(nT), lb = 0,domain=poi.VariableDomain.Continuous); #production from thermal generators, continuous positive variable\n",
        "DV.prod_sol = Model.add_variables(range(nS), range(nSolar), range(nT), lb = 0,domain=poi.VariableDomain.Continuous); #production from solar, continuous positive variable\n",
        "DV.prod_wind = Model.add_variables(range(nS), range(nWind), range(nT), lb = 0,domain=poi.VariableDomain.Continuous); #production from wind, continuous positive variable\n",
        "DV.LL = Model.add_variables(range(nS), range(nT), lb = 0, domain=poi.VariableDomain.Continuous); # lost load (shedding), continuous positive variable\n",
        "DV.SOC = Model.add_variables(range(nS), range(nT), lb = 0, domain=poi.VariableDomain.Continuous); # storage state of charge, continuous positive variable\n",
        "DV.store_ch = Model.add_variables(range(nS), range(nT), lb = 0, domain=poi.VariableDomain.Continuous); # storage charge, continuous positive variable\n",
        "DV.store_dis = Model.add_variables(range(nS), range(nT), lb = 0, domain=poi.VariableDomain.Continuous); # storage discharge, continuous positive variable\n",
        "DV.objs = Model.add_variables(range(nS), domain=poi.VariableDomain.Continuous); # objective function, free variable\n",
        "\n",
        "### OBJECTIVE FUNCTION\n",
        "for s in range(nS):\n",
        "  obj = poi.ExprBuilder();\n",
        "  obj += poi.quicksum(poi.quicksum(gen_cost[g]*DV.prod_thermal[s,g,t] for g in range(nThermal)) + LL_cost*DV.LL[s, t] for t in range(nT));\n",
        "  Model.add_linear_constraint(DV.objs[s]-obj, poi.Eq, 0);\n",
        "Model.set_objective(poi.quicksum(probs[s]*DV.objs[s] for s in range(nS)), poi.ObjectiveSense.Minimize)\n",
        "\n",
        "### CONSTRAINTS\n",
        "for s in range(nS):\n",
        "  # balance equation\n",
        "  for t in range(nT):\n",
        "    Model.add_linear_constraint(\n",
        "        poi.quicksum(DV.prod_thermal[s,g,t] for g in range(nThermal))+  # generation from thermal plants\n",
        "        poi.quicksum(DV.prod_sol[s,g,t] for g in range(nSolar))+        # generation from solar\n",
        "        poi.quicksum(DV.prod_wind[s,g,t] for g in range(nWind))+        # generation from wind\n",
        "        DV.store_dis[s,t]-DV.store_ch[s,t]+DV.LL[s,t],                      # discharge-charge + LL\n",
        "        poi.Eq, demand[s,t]);\n",
        "\n",
        "  # production capacity for thermal plants\n",
        "  for g in range(nThermal):\n",
        "    for t in range(nT):\n",
        "      Model.add_linear_constraint(DV.prod_thermal[s,g,t], poi.Leq, Pmax[g]);\n",
        "      Model.add_linear_constraint(DV.prod_thermal[s,g,t], poi.Geq, Pmin[g]);\n",
        "\n",
        "  # ramping\n",
        "  for g in range(nThermal):\n",
        "    for t in range(1, nT):\n",
        "      Model.add_linear_constraint(DV.prod_thermal[s,g,t]-DV.prod_thermal[s,g,t-1], poi.Leq, RampU[g]*Pmax[g]);\n",
        "      Model.add_linear_constraint(DV.prod_thermal[s,g,t-1]-DV.prod_thermal[s,g,t], poi.Leq, RampD[g]*Pmax[g]);\n",
        "\n",
        "  # availability for VRE\n",
        "  for t in range(nT):\n",
        "    for g in range(nSolar):Model.add_linear_constraint(DV.prod_sol[s,g,t], poi.Leq, Pmax[g+nThermal]*solar_CF[s,t]);\n",
        "    for g in range(nWind):Model.add_linear_constraint(DV.prod_wind[s,g,t], poi.Leq, Pmax[g+nThermal+nSolar]*wind_CF[s,t]);\n",
        "\n",
        "  # storage\n",
        "  for t in range(1, nT):\n",
        "    Model.add_linear_constraint(DV.SOC[s,t]-DV.SOC[s,t-1]-store_eff_ch*DV.store_ch[s,t]+DV.store_dis[s,t]/store_eff_dis, poi.Eq, 0);\n",
        "\n",
        "  Model.add_linear_constraint(DV.SOC[s,0], poi.Eq,0);\n",
        "  for t in range(nT):\n",
        "    Model.add_linear_constraint(DV.SOC[s,t], poi.Leq, store_level);\n",
        "    Model.add_linear_constraint(DV.store_ch[s,t], poi.Leq, store_ch);\n",
        "    Model.add_linear_constraint(DV.store_dis[s,t], poi.Leq, store_dis);\n",
        "\n",
        "### SOLVE THE MODEL\n",
        "Model.optimize();\n",
        "\n",
        "### POST-PROCESSING\n",
        "# calculate total generation and load shedding\n",
        "total_thermal_gen, lost_load = np.zeros(nS), np.zeros(nS);\n",
        "total_VRE_gen = np.zeros(nS);\n",
        "for s in range(nS):\n",
        "  for t in range(nT):\n",
        "      for g in range(nThermal): total_thermal_gen[s] += Model.get_value(DV.prod_thermal[s,g,t]);\n",
        "      for g in range(nSolar): total_VRE_gen[s] += Model.get_value(DV.prod_sol[s,g,t]);\n",
        "      for g in range(nWind): total_VRE_gen[s] += Model.get_value(DV.prod_wind[s,g,t]);\n",
        "      lost_load[s] += Model.get_value(DV.LL[s,t]);\n",
        "scenario_obj = np.zeros(nS);\n",
        "for s in range(nS):\n",
        "  scenario_obj[s] = round(Model.get_value(DV.objs[s]));\n",
        "  print(f'scenario {s}, prob: {np.round(probs[s],2)}, obj = {scenario_obj[s]}, Thermal gen: {round(total_thermal_gen[s])} MWh,  VRE gen: {round(total_VRE_gen[s])} MWh,\\\n",
        "   lost load: {round(lost_load[s])} MWh,\\t total load: {round(demand[s].sum())}');\n",
        "print(f'\\n Total Objective value: {np.round(Model.get_model_attribute(poi.ModelAttribute.ObjectiveValue),1)}, \\t Elapsed time: {np.round(time.time()-time_stamp, 2)} (s)');\n",
        "\n",
        "# # print(Model.get_model_attribute(poi.ModelAttribute.TerminationStatus));"
      ],
      "metadata": {
        "colab": {
          "base_uri": "https://localhost:8080/"
        },
        "id": "0pVJBjhxv0--",
        "outputId": "638a79cd-f6ed-499f-ce7c-655675b2880e"
      },
      "execution_count": 11,
      "outputs": [
        {
          "output_type": "stream",
          "name": "stdout",
          "text": [
            "scenario 0, prob: 0.08, obj = 397773.0, Thermal gen: 177816 MWh,  VRE gen: 180778 MWh,   lost load: 0 MWh,\t total load: 358793\n",
            "scenario 1, prob: 0.18, obj = 823814.0, Thermal gen: 300525 MWh,  VRE gen: 190740 MWh,   lost load: 0 MWh,\t total load: 492422\n",
            "scenario 2, prob: 0.33, obj = 266422.0, Thermal gen: 132701 MWh,  VRE gen: 213348 MWh,   lost load: 0 MWh,\t total load: 346272\n",
            "scenario 3, prob: 0.06, obj = 535842.0, Thermal gen: 228019 MWh,  VRE gen: 194999 MWh,   lost load: 0 MWh,\t total load: 423425\n",
            "scenario 4, prob: 0.34, obj = 823814.0, Thermal gen: 300525 MWh,  VRE gen: 190740 MWh,   lost load: 0 MWh,\t total load: 492422\n",
            "\n",
            " Total Objective value: 587100.7, \t Elapsed time: 0.11 (s)\n"
          ]
        }
      ]
    },
    {
      "cell_type": "markdown",
      "source": [
        "<br><br>"
      ],
      "metadata": {
        "id": "akp5X4-DBjpd"
      }
    },
    {
      "cell_type": "markdown",
      "source": [
        "# **<font color='blue'>4. Unit Commitment </font>**  <a name=\"UC\"></a>\n",
        "\n",
        "UC determines the commitment status (whether it is on or not) for generators over a time period of usually a day or a week. The objective is to reduce the cost of commitment and operation, subject to the system constraints."
      ],
      "metadata": {
        "id": "Svz5kWwAta-W"
      }
    },
    {
      "cell_type": "markdown",
      "source": [
        "## Deterministic UC\n",
        "\n",
        "**New Parameters**\n",
        "- $c^{\\text{cm}}_g$: commitment cost\n",
        "- $c^{\\text{su}}_g$: startup cost\n",
        "- $c^{\\text{sd}}_g$: shutdown cost\n",
        "\n",
        "\n",
        "**New Variables**\n",
        "- $\\theta_s$: objective value of dispatch problem\n",
        "- $u^{\\text{cm}}_{gt}\\in \\{0, 1\\}$: generator on/off status\n",
        "- $u^{\\text{su}}_{gt}, u^{\\text{sd}}_{gt}\\in \\{0, 1\\}$: startup and shutdown decisions\n",
        "\n",
        "**<font color='blue'>Mathematical Model </font>**   \n",
        "    \\begin{align}\n",
        "    \\min & \\sum_{g\\in \\mathcal{H}} \\sum_{t\\in \\mathcal{T}}(c^{\\text{cm}}_g u^{\\text{cm}}_{gt}+ c^{\\text{su}}_g u^{\\text{su}}_{gt}+c^{\\text{sd}}_g u^{\\text{sd}}_{gt})+  \\theta\\\\\n",
        "    \\text{s.t.} \\ & \\theta =  \\sum_{g\\in \\mathcal{H}} \\sum_{t\\in \\mathcal{T}} c_g p_{gt} + \\sum_{t\\in \\mathcal{T}}c^{\\text{VoLL}} a_{t} & \\\\\n",
        "    &u^{\\text{cm}}_{gt} = u^{\\text{cm}}_{g,t-1}+u^{\\text{su}}_{gt}-u^{\\text{sd}}_{gt}& g\\in \\mathcal{G}, t\\in \\mathcal{T}\\\\\n",
        "    & \\sum_{g\\in \\mathcal{G}} p_{gt} + s^{\\text{dis}}_{t} - s^{\\text{ch}}_{t}+a_{t} = D_{t} & t\\in \\mathcal{T}\\\\\n",
        "    & P^{\\text{min}}_g u^{\\text{cm}}_{gt} \\leq p_{gt} \\leq P^{\\text{max}}_g u^{\\text{cm}}_{gt} & g\\in \\mathcal{G}, t\\in \\mathcal{T}\\\\\n",
        "    & p_{gt}-p_{g,t-1} \\leq R^{\\text{up}}_g P^{\\text{max}}_gu^{\\text{cm}}_{gt}, \\qquad  p_{g,t-1}-p_{gt} \\leq R^{\\text{dn}}_g P^{\\text{max}}_g u^{\\text{cm}}_{gt} & g\\in \\mathcal{H}, t\\in \\mathcal{T}\\backslash t_0\\\\\n",
        "    & p_{gt}\\leq \\rho_{gt}P^{\\text{max}}_g & g\\in \\mathcal{V}, t\\in \\mathcal{T}\\\\\n",
        "    &s^{\\text{soc}}_{t} = s^{\\text{soc}}_{t-1}+ \\gamma^{\\text{ch}} s^{\\text{ch}}_{t} - \\frac{s^{\\text{dis}}_{t}}{\\gamma^{\\text{dis}}}, \\qquad s^{\\text{soc}}_{0}=0&t\\in \\mathcal{T}\\backslash t_0\\\\\n",
        "    &s^{\\text{soc}}_{t}\\leq y^{\\text{lev}}, \\quad s^{\\text{ch}}_{t}\\leq y^{\\text{ch}} ,\\quad s^{\\text{ch}}_{t}\\leq  y^{\\text{dis}}&t\\in \\mathcal{T}\n",
        "\\end{align}\n"
      ],
      "metadata": {
        "id": "AnGA_F9WhkVE"
      }
    },
    {
      "cell_type": "markdown",
      "source": [
        "Consider a few scenarios, and independently solve the deterministic UC for each scenario. We will use these results to compare with stochastic and robust optimization paradigms."
      ],
      "metadata": {
        "id": "sqb4jOsgiNrX"
      }
    },
    {
      "cell_type": "code",
      "source": [
        "UC_obj_det = np.zeros(nS);\n",
        "np.random.seed(2025);\n",
        "\n",
        "### Sets\n",
        "nThermal = 10;\n",
        "nSolar = 5;\n",
        "nWind = 5;\n",
        "nT = len(demand[0]);\n",
        "\n",
        "### PARAMETERS\n",
        "# demand is the demand matrix, solar_CF and wind_CF are the solar and wind capacity factors\n",
        "gen_cost = np.random.randint(low=2, high=7, size=nThermal); # marginal generation cost (variable )\n",
        "LL_cost = 1e4;  # penalty for lost load\n",
        "Pmax =  np.random.randint(int(0.2*demand.max()/nThermal), int(demand.max()/nThermal), size=nThermal+nSolar+nWind);\n",
        "Pmin = np.zeros(nThermal+nSolar+nWind);\n",
        "RampU =  np.random.uniform(low=0.2, high=0.7, size=nThermal);\n",
        "RampD =  np.random.uniform(low=0.1, high=0.5, size=nThermal);\n",
        "store_level = 0.2*demand.max();\n",
        "store_ch, store_dis = store_level/4, store_level/4;\n",
        "store_eff_ch, store_eff_dis = 0.9, 0.9;\n",
        "commit_cost = np.random.randint(500, 1500, size=nThermal);\n",
        "startup_cost = np.random.randint(1000, 3000, size=nThermal);\n",
        "shutdown_cost = np.random.randint(200, 2000, size=nThermal);\n",
        "probs = np.random.dirichlet(np.ones(nS), size=1)[0];\n",
        "\n",
        "for s in range(nS):\n",
        "  time_stamp = time.time();\n",
        "\n",
        "  # MODEL INSTANCE\n",
        "  Model = highs.Model();\n",
        "\n",
        "  ### DECISION VARIABLES\n",
        "  # define a class to distinguish the variables from parameters\n",
        "  class DV(): prod_thermal=[]; prod_vre=[]; LL=[]; SOC=[]; store_ch=[]; store_dis=[];Ucom=[]; Usu=[]; Usd=[];s1_obj=[]; s2_obj=[];\n",
        "\n",
        "  DV.prod_thermal = Model.add_variables( range(nThermal), range(nT), lb = 0,domain=poi.VariableDomain.Continuous);\n",
        "  DV.prod_sol = Model.add_variables(range(nSolar), range(nT), lb = 0,domain=poi.VariableDomain.Continuous);\n",
        "  DV.prod_wind = Model.add_variables(range(nWind), range(nT), lb = 0,domain=poi.VariableDomain.Continuous);\n",
        "  DV.LL = Model.add_variables(range(nT), lb = 0, domain=poi.VariableDomain.Continuous); # lost load (shedding), continuous positive variable\n",
        "  DV.SOC = Model.add_variables(range(nT), lb = 0, domain=poi.VariableDomain.Continuous); # storage state of charge, continuous positive variable\n",
        "  DV.store_ch = Model.add_variables(range(nT), lb = 0, domain=poi.VariableDomain.Continuous); # storage charge, continuous positive variable\n",
        "  DV.store_dis = Model.add_variables(range(nT), lb = 0, domain=poi.VariableDomain.Continuous); # storage discharge, continuous positive variable\n",
        "  DV.Ucom = Model.add_variables(range(nThermal), range(nT), domain=poi.VariableDomain.Binary); # generator on/off status\n",
        "  DV.Usu = Model.add_variables(range(nThermal), range(nT), domain=poi.VariableDomain.Binary); # startup decision\n",
        "  DV.Usd = Model.add_variables(range(nThermal), range(nT), domain=poi.VariableDomain.Binary); # shutdown decision\n",
        "  DV.s1_obj = Model.add_variable(domain=poi.VariableDomain.Continuous); # objective function for first-stage problme, free variable\n",
        "  DV.s2_obj = Model.add_variable(domain=poi.VariableDomain.Continuous); # objective function for second-stage problme, free variable\n",
        "\n",
        "  ### OBJECTIVE FUNCTION\n",
        "  obj_total = poi.ExprBuilder();\n",
        "  # first-stage objective\n",
        "  obj_total += poi.quicksum(poi.quicksum(commit_cost[g]*DV.Ucom[g,t]+ startup_cost[g]*DV.Usu[g,t]+shutdown_cost[g]*DV.Usd[g,t] for g in range(nThermal)) for t in range(nT));\n",
        "  Model.add_linear_constraint(DV.s1_obj-obj_total, poi.Eq, 0);\n",
        "  obj_total += DV.s2_obj;\n",
        "  Model.set_objective(obj_total, poi.ObjectiveSense.Minimize);\n",
        "\n",
        "  ### CONSTRAINTS\n",
        "  # cost components\n",
        "  obj = poi.ExprBuilder();\n",
        "  obj += poi.quicksum(poi.quicksum(gen_cost[g]*DV.prod_thermal[g,t] for g in range(nThermal)) + LL_cost*DV.LL[t] for t in range(nT));\n",
        "  Model.add_linear_constraint(DV.s2_obj-obj, poi.Eq, 0);\n",
        "\n",
        "  # on/off status\n",
        "  for g in range(nThermal):\n",
        "    for t in range(1, nT):\n",
        "      Model.add_linear_constraint(DV.Ucom[g,t]-DV.Ucom[g,t-1]-DV.Usu[g,t]+DV.Usd[g,t], poi.Eq, 0);\n",
        "\n",
        "  # balance equation\n",
        "  for t in range(nT):\n",
        "    Model.add_linear_constraint(\n",
        "        poi.quicksum(DV.prod_thermal[g,t] for g in range(nThermal))+  # generation from thermal plants\n",
        "        poi.quicksum(DV.prod_sol[g,t] for g in range(nSolar))+        # generation from solar\n",
        "        poi.quicksum(DV.prod_wind[g,t] for g in range(nWind))+        # generation from wind\n",
        "        DV.store_dis[t]-DV.store_ch[t]+DV.LL[t],                      # discharge-charge + LL\n",
        "        poi.Eq, demand[s,t]);\n",
        "\n",
        "  # production capacity for thermal plants\n",
        "  for g in range(nThermal):\n",
        "    for t in range(nT):\n",
        "      Model.add_linear_constraint(DV.prod_thermal[g,t]-Pmax[g]*DV.Ucom[g,t], poi.Leq, 0);\n",
        "      Model.add_linear_constraint(DV.prod_thermal[g,t]-Pmin[g]*DV.Ucom[g,t], poi.Geq,0);\n",
        "\n",
        "  # ramping\n",
        "  for g in range(nThermal):\n",
        "    for t in range(1, nT):\n",
        "      Model.add_linear_constraint(DV.prod_thermal[g,t]-DV.prod_thermal[g,t-1] -RampU[g]*Pmax[g]*DV.Ucom[g,t], poi.Leq, 0);\n",
        "      Model.add_linear_constraint(DV.prod_thermal[g,t-1]-DV.prod_thermal[g,t] -RampD[g]*Pmax[g]*DV.Ucom[g,t], poi.Leq, 0);\n",
        "\n",
        "  # availability for VRE\n",
        "  for t in range(nT):\n",
        "    for g in range(nSolar):Model.add_linear_constraint(DV.prod_sol[g,t], poi.Leq, Pmax[g+nThermal]*solar_CF[s,t]);\n",
        "    for g in range(nWind):Model.add_linear_constraint(DV.prod_wind[g,t], poi.Leq, Pmax[g+nThermal+nSolar]*wind_CF[s,t]);\n",
        "\n",
        "  # storage\n",
        "  for t in range(1, nT):\n",
        "    Model.add_linear_constraint(DV.SOC[t]-DV.SOC[t-1]-store_eff_ch*DV.store_ch[t]+DV.store_dis[t]/store_eff_dis, poi.Eq, 0);\n",
        "\n",
        "  Model.add_linear_constraint(DV.SOC[0], poi.Eq,0);\n",
        "  for t in range(nT):\n",
        "    Model.add_linear_constraint(DV.SOC[t], poi.Leq, store_level);\n",
        "    Model.add_linear_constraint(DV.store_ch[t], poi.Leq, store_ch);\n",
        "    Model.add_linear_constraint(DV.store_dis[t], poi.Leq, store_dis);\n",
        "\n",
        "  ### SOLVE THE MODEL\n",
        "  Model.set_model_attribute(poi.ModelAttribute.Silent, 0);\n",
        "  Model.optimize();\n",
        "\n",
        "  ### POST-PROCESSING\n",
        "  ll=0;\n",
        "  for t in range(nT):\n",
        "    ll += Model.get_value(DV.LL[t]);\n",
        "  print(f' Scenario: {s}, first-stage obj: {round(Model.get_value(DV.s1_obj))}\\\n",
        "  second-stage obj: {round(Model.get_value(DV.s2_obj))}, lost load: {round(ll)}, \\t Elapsed time: {np.round(time.time()-time_stamp, 2)} (s)');\n",
        "  UC_obj_det[s] = Model.get_value(DV.s1_obj)+Model.get_value(DV.s2_obj);\n",
        "\n",
        "print(np.round(UC_obj_det));"
      ],
      "metadata": {
        "colab": {
          "base_uri": "https://localhost:8080/"
        },
        "id": "-WW-I4VqieZC",
        "outputId": "c1b886b3-6d6e-4da5-b432-a74524371fbc"
      },
      "execution_count": 12,
      "outputs": [
        {
          "output_type": "stream",
          "name": "stdout",
          "text": [
            " Scenario: 0, first-stage obj: 128096  second-stage obj: 582020, lost load: 0, \t Elapsed time: 2.08 (s)\n",
            " Scenario: 1, first-stage obj: 162186  second-stage obj: 1154318, lost load: 0, \t Elapsed time: 1.2 (s)\n",
            " Scenario: 2, first-stage obj: 103656  second-stage obj: 396654, lost load: 0, \t Elapsed time: 1.45 (s)\n",
            " Scenario: 3, first-stage obj: 138240  second-stage obj: 787414, lost load: 0, \t Elapsed time: 0.83 (s)\n",
            " Scenario: 4, first-stage obj: 162186  second-stage obj: 1154318, lost load: 0, \t Elapsed time: 1.2 (s)\n",
            "[ 710116. 1316504.  500310.  925654. 1316504.]\n"
          ]
        }
      ]
    },
    {
      "cell_type": "markdown",
      "source": [
        "<br><br>"
      ],
      "metadata": {
        "id": "-6WQuQ7bimld"
      }
    },
    {
      "cell_type": "markdown",
      "source": [
        "## Stochastic UC\n",
        "\n",
        "**New Parameters**\n",
        "- $c^{\\text{cm}}_g$: commitment cost\n",
        "- $c^{\\text{su}}_g$: startup cost\n",
        "- $c^{\\text{sd}}_g$: shutdown cost\n",
        "\n",
        "\n",
        "**New Variables**\n",
        "- $\\theta_s$: objective value of dispatch problem\n",
        "- $u^{\\text{cm}}_{gt}\\in \\{0, 1\\}$: generator on/off status\n",
        "- $u^{\\text{su}}_{gt}, u^{\\text{sd}}_{gt}\\in \\{0, 1\\}$: startup and shutdown decisions\n",
        "\n",
        "**<font color='blue'>Mathematical Model </font>**   \n",
        "    \\begin{align}\n",
        "    \\min & \\sum_{g\\in \\mathcal{H}} \\sum_{t\\in \\mathcal{T}}(c^{\\text{cm}}_g u^{\\text{cm}}_{gt}+ c^{\\text{su}}_g u^{\\text{su}}_{gt}+c^{\\text{sd}}_g u^{\\text{sd}}_{gt})+ \\sum_{s\\in \\mathcal{S}}\\pi_s \\theta_s\\\\\n",
        "    \\text{s.t.} \\ & \\theta_s =  \\sum_{g\\in \\mathcal{H}} \\sum_{t\\in \\mathcal{T}} c_g p_{sgt} + \\sum_{t\\in \\mathcal{T}}c^{\\text{VoLL}} a_{st} & s\\in \\mathcal{S}\\\\\n",
        "    &u^{\\text{cm}}_{gt} = u^{\\text{cm}}_{g,t-1}+u^{\\text{su}}_{gt}-u^{\\text{sd}}_{gt}& g\\in \\mathcal{G}, t\\in \\mathcal{T}\\\\\n",
        "    & \\sum_{g\\in \\mathcal{G}} p_{sgt} + s^{\\text{dis}}_{st} - s^{\\text{ch}}_{st}+a_{st} = D_{st} & s\\in \\mathcal{S}, t\\in \\mathcal{T}\\\\\n",
        "    & P^{\\text{min}}_g u^{\\text{cm}}_{gt} \\leq p_{sgt} \\leq P^{\\text{max}}_g u^{\\text{cm}}_{gt} & s\\in \\mathcal{S}, g\\in \\mathcal{G}, t\\in \\mathcal{T}\\\\\n",
        "    & p_{sgt}-p_{sg,t-1} \\leq R^{\\text{up}}_g P^{\\text{max}}_gu^{\\text{cm}}_{gt}, \\qquad  p_{sg,t-1}-p_{sgt} \\leq R^{\\text{dn}}_g P^{\\text{max}}_g u^{\\text{cm}}_{gt} & s\\in \\mathcal{S}, g\\in \\mathcal{H}, t\\in \\mathcal{T}\\backslash t_0\\\\\n",
        "    & p_{sgt}\\leq \\rho_{sgt}P^{\\text{max}}_g & s\\in \\mathcal{S}, g\\in \\mathcal{V}, t\\in \\mathcal{T}\\\\\n",
        "    &s^{\\text{soc}}_{st} = s^{\\text{soc}}_{s,t-1}+ \\gamma^{\\text{ch}} s^{\\text{ch}}_{st} - \\frac{s^{\\text{dis}}_{st}}{\\gamma^{\\text{dis}}}, \\qquad s^{\\text{soc}}_{s0}=0&s\\in \\mathcal{S}, t\\in \\mathcal{T}\\backslash t_0\\\\\n",
        "    &s^{\\text{soc}}_{st}\\leq y^{\\text{lev}}, \\quad s^{\\text{ch}}_{st}\\leq y^{\\text{ch}} ,\\quad s^{\\text{ch}}_{st}\\leq  y^{\\text{dis}}&s\\in \\mathcal{S}, t\\in \\mathcal{T}\n",
        "\\end{align}\n"
      ],
      "metadata": {
        "id": "DKc_inqnBgQT"
      }
    },
    {
      "cell_type": "code",
      "source": [
        "np.random.seed(2025);\n",
        "time_stamp = time.time();\n",
        "### SETS\n",
        "nThermal = 10;\n",
        "nSolar = 5;\n",
        "nWind = 5;\n",
        "nT = len(demand[0]);\n",
        "\n",
        "### PARAMETERS\n",
        "# demand is the demand matrix, solar_CF and wind_CF are the solar and wind capacity factors\n",
        "gen_cost = np.random.randint(low=2, high=7, size=nThermal); # marginal generation cost (variable )\n",
        "LL_cost = 1e4;  # penalty for lost load\n",
        "Pmax =  np.random.randint(int(0.2*demand.max()/nThermal), int(demand.max()/nThermal), size=nThermal+nSolar+nWind);\n",
        "Pmin = np.zeros(nThermal+nSolar+nWind);\n",
        "RampU =  np.random.uniform(low=0.2, high=0.7, size=nThermal);\n",
        "RampD =  np.random.uniform(low=0.1, high=0.5, size=nThermal);\n",
        "store_level = 0.2*demand.max();\n",
        "store_ch, store_dis = store_level/4, store_level/4;\n",
        "store_eff_ch, store_eff_dis = 0.9, 0.9;\n",
        "commit_cost = np.random.randint(500, 1500, size=nThermal);\n",
        "startup_cost = np.random.randint(1000, 3000, size=nThermal);\n",
        "shutdown_cost = np.random.randint(200, 2000, size=nThermal);\n",
        "probs = np.random.dirichlet(np.ones(nS), size=1)[0];\n",
        "\n",
        "# MODEL INSTANCE\n",
        "Model = highs.Model();\n",
        "\n",
        "### DECISION VARIABLES\n",
        "# define a class to distinguish the variables from parameters\n",
        "class DV(): prod_thermal=[]; prod_vre=[]; LL=[]; SOC=[]; store_ch=[]; store_dis=[]; Ucom=[]; Usu=[]; Usd=[]; theta=[];s1_obj=[]; total_obj=[]\n",
        "\n",
        "DV.prod_thermal = Model.add_variables(range(nS), range(nThermal), range(nT), lb = 0,domain=poi.VariableDomain.Continuous);\n",
        "DV.prod_sol = Model.add_variables(range(nS), range(nSolar), range(nT), lb = 0,domain=poi.VariableDomain.Continuous);\n",
        "DV.prod_wind = Model.add_variables(range(nS), range(nWind), range(nT), lb = 0,domain=poi.VariableDomain.Continuous);\n",
        "DV.LL = Model.add_variables(range(nS), range(nT), lb = 0, domain=poi.VariableDomain.Continuous); # lost load (shedding), continuous positive variable\n",
        "DV.SOC = Model.add_variables(range(nS), range(nT), lb = 0, domain=poi.VariableDomain.Continuous); # storage state of charge, continuous positive variable\n",
        "DV.store_ch = Model.add_variables(range(nS), range(nT), lb = 0, domain=poi.VariableDomain.Continuous); # storage charge, continuous positive variable\n",
        "DV.store_dis = Model.add_variables(range(nS), range(nT), lb = 0, domain=poi.VariableDomain.Continuous); # storage discharge, continuous positive variable\n",
        "DV.Ucom = Model.add_variables(range(nThermal), range(nT), domain=poi.VariableDomain.Binary); # generator on/off status\n",
        "DV.Usu = Model.add_variables(range(nThermal), range(nT), domain=poi.VariableDomain.Binary); # startup decision\n",
        "DV.Usd = Model.add_variables(range(nThermal), range(nT), domain=poi.VariableDomain.Binary); # shutdown decision\n",
        "DV.theta = Model.add_variables(range(nS), domain=poi.VariableDomain.Continuous); # objective function for second-stage problmes, free variable\n",
        "DV.s1_obj = Model.add_variable(domain=poi.VariableDomain.Continuous); # objective function for first-stage problme, free variable\n",
        "DV.total_obj = Model.add_variable(domain=poi.VariableDomain.Continuous); # total objective function, free variable\n",
        "\n",
        "### OBJECTIVE FUNCTION\n",
        "obj_total = poi.ExprBuilder();\n",
        "# first-stage objective\n",
        "obj_total += poi.quicksum(poi.quicksum(commit_cost[g]*DV.Ucom[g,t]+ startup_cost[g]*DV.Usu[g,t]+shutdown_cost[g]*DV.Usd[g,t] for g in range(nThermal)) for t in range(nT));\n",
        "Model.add_linear_constraint(DV.s1_obj-obj_total, poi.Eq, 0);\n",
        "obj_total += poi.quicksum(probs[s]*DV.theta[s] for s in range(nS));\n",
        "Model.add_linear_constraint(DV.total_obj-obj_total, poi.Eq, 0);\n",
        "Model.set_objective(obj_total, poi.ObjectiveSense.Minimize)\n",
        "\n",
        "### CONSTRAINTS\n",
        "# cost components\n",
        "for s in range(nS):\n",
        "  obj = poi.ExprBuilder();\n",
        "  obj += poi.quicksum(poi.quicksum(gen_cost[g]*DV.prod_thermal[s,g,t] for g in range(nThermal)) + LL_cost*DV.LL[s, t] for t in range(nT));\n",
        "  Model.add_linear_constraint(DV.theta[s]-obj, poi.Eq, 0);\n",
        "\n",
        "# on/off status\n",
        "for g in range(nThermal):\n",
        "  for t in range(1, nT):\n",
        "    Model.add_linear_constraint(DV.Ucom[g,t]-DV.Ucom[g,t-1]-DV.Usu[g,t]+DV.Usd[g,t], poi.Eq, 0);\n",
        "\n",
        "for s in range(nS):\n",
        "  # balance equation\n",
        "  for t in range(nT):\n",
        "    Model.add_linear_constraint(\n",
        "        poi.quicksum(DV.prod_thermal[s,g,t] for g in range(nThermal))+  # generation from thermal plants\n",
        "        poi.quicksum(DV.prod_sol[s,g,t] for g in range(nSolar))+        # generation from solar\n",
        "        poi.quicksum(DV.prod_wind[s,g,t] for g in range(nWind))+        # generation from wind\n",
        "        DV.store_dis[s,t]-DV.store_ch[s,t]+DV.LL[s,t],                      # discharge-charge + LL\n",
        "        poi.Eq, demand[s,t]);\n",
        "\n",
        "  # production capacity for thermal plants\n",
        "  for g in range(nThermal):\n",
        "    for t in range(nT):\n",
        "      Model.add_linear_constraint(DV.prod_thermal[s,g,t]-Pmax[g]*DV.Ucom[g,t], poi.Leq, 0);\n",
        "      Model.add_linear_constraint(DV.prod_thermal[s,g,t]-Pmin[g]*DV.Ucom[g,t], poi.Geq,0);\n",
        "\n",
        "  # ramping\n",
        "  for g in range(nThermal):\n",
        "    for t in range(1, nT):\n",
        "      Model.add_linear_constraint(DV.prod_thermal[s,g,t]-DV.prod_thermal[s,g,t-1] -RampU[g]*Pmax[g]*DV.Ucom[g,t], poi.Leq, 0);\n",
        "      Model.add_linear_constraint(DV.prod_thermal[s,g,t-1]-DV.prod_thermal[s,g,t] -RampD[g]*Pmax[g]*DV.Ucom[g,t], poi.Leq, 0);\n",
        "\n",
        "  # availability for VRE\n",
        "  for t in range(nT):\n",
        "    for g in range(nSolar):Model.add_linear_constraint(DV.prod_sol[s,g,t], poi.Leq, Pmax[g+nThermal]*solar_CF[s,t]);\n",
        "    for g in range(nWind):Model.add_linear_constraint(DV.prod_wind[s,g,t], poi.Leq, Pmax[g+nThermal+nSolar]*wind_CF[s,t]);\n",
        "\n",
        "  # storage\n",
        "  for t in range(1, nT):\n",
        "    Model.add_linear_constraint(DV.SOC[s,t]-DV.SOC[s,t-1]-store_eff_ch*DV.store_ch[s,t]+DV.store_dis[s,t]/store_eff_dis, poi.Eq, 0);\n",
        "\n",
        "  Model.add_linear_constraint(DV.SOC[s,0], poi.Eq,0);\n",
        "  for t in range(nT):\n",
        "    Model.add_linear_constraint(DV.SOC[s,t], poi.Leq, store_level);\n",
        "    Model.add_linear_constraint(DV.store_ch[s,t], poi.Leq, store_ch);\n",
        "    Model.add_linear_constraint(DV.store_dis[s,t], poi.Leq, store_dis);\n",
        "\n",
        "### SOLVE THE MODEL\n",
        "Model.set_model_attribute(poi.ModelAttribute.Silent, 0);\n",
        "Model.optimize();\n",
        "\n",
        "### POST-PROCESSING\n",
        "# calculate total generation and load shedding\n",
        "total_thermal_gen, lost_load = np.zeros(nS), np.zeros(nS);\n",
        "total_VRE_gen = np.zeros(nS);\n",
        "for s in range(nS):\n",
        "  for t in range(nT):\n",
        "      for g in range(nThermal): total_thermal_gen[s] += Model.get_value(DV.prod_thermal[s,g,t]);\n",
        "      for g in range(nSolar): total_VRE_gen[s] += Model.get_value(DV.prod_sol[s,g,t]);\n",
        "      for g in range(nWind): total_VRE_gen[s] += Model.get_value(DV.prod_wind[s,g,t]);\n",
        "      lost_load[s] += Model.get_value(DV.LL[s,t]);\n",
        "scenario_obj = np.zeros(nS);\n",
        "for s in range(nS):\n",
        "  scenario_obj[s] = round(Model.get_value(DV.theta[s]));\n",
        "  print(f'scenario {s}, prob: {np.round(probs[s],2)},  obj = {scenario_obj[s]}, Thermal gen: {round(total_thermal_gen[s])} MWh,  VRE gen: {round(total_VRE_gen[s])} MWh,\\\n",
        "   lost load: {round(lost_load[s])} MWh,  total load: {round(demand[s].sum())} MWh');\n",
        "print(f'\\n Total Objective value: {np.round(Model.get_model_attribute(poi.ModelAttribute.ObjectiveValue),1)}, \\\n",
        "first-stage obj: {round(Model.get_value(DV.s1_obj))}, \\t Elapsed time: {np.round(time.time()-time_stamp, 2)} (s)');\n",
        "\n",
        "UC_obj_SP = Model.get_model_attribute(poi.ModelAttribute.ObjectiveValue);"
      ],
      "metadata": {
        "colab": {
          "base_uri": "https://localhost:8080/"
        },
        "id": "5ow_jxrvv06N",
        "outputId": "819a773d-d74f-49e1-ec47-06290e74c277"
      },
      "execution_count": 13,
      "outputs": [
        {
          "output_type": "stream",
          "name": "stdout",
          "text": [
            "scenario 0, prob: 0.01,  obj = 581202.0, Thermal gen: 199998 MWh,  VRE gen: 158597 MWh,   lost load: 0 MWh,  total load: 358793 MWh\n",
            "scenario 1, prob: 0.5,  obj = 1154318.0, Thermal gen: 322648 MWh,  VRE gen: 169583 MWh,   lost load: 0 MWh,  total load: 492422 MWh\n",
            "scenario 2, prob: 0.14,  obj = 394584.0, Thermal gen: 156780 MWh,  VRE gen: 189329 MWh,   lost load: 0 MWh,  total load: 346272 MWh\n",
            "scenario 3, prob: 0.2,  obj = 787186.0, Thermal gen: 250739 MWh,  VRE gen: 172629 MWh,   lost load: 0 MWh,  total load: 423425 MWh\n",
            "scenario 4, prob: 0.16,  obj = 1154318.0, Thermal gen: 322648 MWh,  VRE gen: 169583 MWh,   lost load: 0 MWh,  total load: 492422 MWh\n",
            "\n",
            " Total Objective value: 1132502.3, first-stage obj: 162186, \t Elapsed time: 4.58 (s)\n"
          ]
        }
      ]
    },
    {
      "cell_type": "markdown",
      "source": [
        "<br><br>"
      ],
      "metadata": {
        "id": "_9fgGQtO_HJ1"
      }
    },
    {
      "cell_type": "markdown",
      "source": [
        "## Robust UC\n",
        "\n",
        "**<font color='blue'>Mathematical Model </font>**   \n",
        "    \\begin{align}\n",
        "    \\min & \\quad \\sum_{g\\in \\mathcal{H}} \\sum_{t\\in \\mathcal{T}}(c^{\\text{su}}_g u^{\\text{su}}_{gt}+c^{\\text{sd}}_g u^{\\text{sd}}_{gt})+ \\Theta\\\\\n",
        "    \\text{s.t.} \\ &\\Theta\\geq \\sum_{g\\in \\mathcal{H}} \\sum_{t\\in \\mathcal{T}} c_g p_{sgt} + \\sum_{t\\in \\mathcal{T}}c^{\\text{VoLL}} a_{st}& s\\in \\mathcal{S}\\\\\n",
        "    & u^{\\text{gen}}_{gt} = u^{\\text{gen}}_{g,t-1}+u^{\\text{su}}_{gt}-u^{\\text{sd}}_{gt}& g\\in \\mathcal{G}, t\\in \\mathcal{T}\\\\\n",
        "    & \\sum_{g\\in \\mathcal{G}} p_{sgt} + s^{\\text{dis}}_{st} - s^{\\text{ch}}_{st}+a_{st} = D_{st} & s\\in \\mathcal{S}, t\\in \\mathcal{T}\\\\\n",
        "    & P^{\\text{min}}_g u^{\\text{gen}}_{gt} \\leq p_{sgt} \\leq P^{\\text{max}}_g u^{\\text{gen}}_{gt} & s\\in \\mathcal{S}, g\\in \\mathcal{G}, t\\in \\mathcal{T}\\\\\n",
        "    & p_{sgt}-p_{sg,t-1} \\leq R^{\\text{up}}_g P^{\\text{max}}_gu^{\\text{gen}}_{gt}, \\qquad  p_{sg,t-1}-p_{sgt} \\leq R^{\\text{dn}}_g P^{\\text{max}}_g u^{\\text{gen}}_{gt} & s\\in \\mathcal{S}, g\\in \\mathcal{H}, t\\in \\mathcal{T}\\backslash t_0\\\\\n",
        "    & p_{sgt}\\leq \\rho_{sgt}P^{\\text{max}}_g & s\\in \\mathcal{S}, g\\in \\mathcal{V}, t\\in \\mathcal{T}\\\\\n",
        "    &s^{\\text{soc}}_{st} = s^{\\text{soc}}_{s,t-1}+ \\gamma^{\\text{ch}} s^{\\text{ch}}_{st} - \\frac{s^{\\text{dis}}_{st}}{\\gamma^{\\text{dis}}}, \\qquad s^{\\text{soc}}_{s0}=0&s\\in \\mathcal{S}, t\\in \\mathcal{T}\\backslash t_0\\\\\n",
        "    &s^{\\text{soc}}_{st}\\leq y^{\\text{lev}}, \\quad s^{\\text{ch}}_{st}\\leq y^{\\text{ch}} ,\\quad s^{\\text{ch}}_{st}\\leq  y^{\\text{dis}}&s\\in \\mathcal{S}, t\\in \\mathcal{T}\n",
        "\\end{align}\n"
      ],
      "metadata": {
        "id": "jbFozvsJ_Iug"
      }
    },
    {
      "cell_type": "code",
      "source": [
        "np.random.seed(2025);\n",
        "time_stamp = time.time();\n",
        "### SETS\n",
        "nThermal = 10;\n",
        "nSolar = 5;\n",
        "nWind = 5;\n",
        "nT = len(demand[0]);\n",
        "\n",
        "### PARAMETERS\n",
        "# demand is the demand matrix, solar_CF and wind_CF are the solar and wind capacity factors\n",
        "gen_cost = np.random.randint(low=2, high=7, size=nThermal); # marginal generation cost (variable )\n",
        "LL_cost = 1e4;  # penalty for lost load\n",
        "Pmax =  np.random.randint(int(0.2*demand.max()/nThermal), int(demand.max()/nThermal), size=nThermal+nSolar+nWind);\n",
        "Pmin = np.zeros(nThermal+nSolar+nWind);\n",
        "RampU =  np.random.uniform(low=0.2, high=0.7, size=nThermal);\n",
        "RampD =  np.random.uniform(low=0.1, high=0.5, size=nThermal);\n",
        "store_level = 0.2*demand.max();\n",
        "store_ch, store_dis = store_level/4, store_level/4;\n",
        "store_eff_ch, store_eff_dis = 0.9, 0.9;\n",
        "commit_cost = np.random.randint(500, 1500, size=nThermal);\n",
        "startup_cost = np.random.randint(1000, 3000, size=nThermal);\n",
        "shutdown_cost = np.random.randint(200, 2000, size=nThermal);\n",
        "probs = np.random.dirichlet(np.ones(nS), size=1)[0];\n",
        "\n",
        "# MODEL INSTANCE\n",
        "Model = highs.Model();\n",
        "\n",
        "### DECISION VARIABLES\n",
        "# define a class to distinguish the variables from parameters\n",
        "class DV(): prod_thermal=[]; prod_vre=[]; LL=[]; SOC=[]; store_ch=[]; store_dis=[]; Ucom=[]; Usu=[]; Usd=[]; theta=[];s1_obj=[]; total_obj=[]\n",
        "\n",
        "DV.prod_thermal = Model.add_variables(range(nS), range(nThermal), range(nT), lb = 0,domain=poi.VariableDomain.Continuous);\n",
        "DV.prod_sol = Model.add_variables(range(nS), range(nSolar), range(nT), lb = 0,domain=poi.VariableDomain.Continuous);\n",
        "DV.prod_wind = Model.add_variables(range(nS), range(nWind), range(nT), lb = 0,domain=poi.VariableDomain.Continuous);\n",
        "DV.LL = Model.add_variables(range(nS), range(nT), lb = 0, domain=poi.VariableDomain.Continuous); # lost load (shedding), continuous positive variable\n",
        "DV.SOC = Model.add_variables(range(nS), range(nT), lb = 0, domain=poi.VariableDomain.Continuous); # storage state of charge, continuous positive variable\n",
        "DV.store_ch = Model.add_variables(range(nS), range(nT), lb = 0, domain=poi.VariableDomain.Continuous); # storage charge, continuous positive variable\n",
        "DV.store_dis = Model.add_variables(range(nS), range(nT), lb = 0, domain=poi.VariableDomain.Continuous); # storage discharge, continuous positive variable\n",
        "DV.Ucom = Model.add_variables(range(nThermal), range(nT), domain=poi.VariableDomain.Binary); # generator on/off status\n",
        "DV.Usu = Model.add_variables(range(nThermal), range(nT), domain=poi.VariableDomain.Binary); # startup decision\n",
        "DV.Usd = Model.add_variables(range(nThermal), range(nT), domain=poi.VariableDomain.Binary); # shutdown decision\n",
        "DV.theta = Model.add_variables(range(nS), domain=poi.VariableDomain.Continuous); # objective function for second-stage problmes, free variable\n",
        "DV.s1_obj = Model.add_variable(domain=poi.VariableDomain.Continuous); # objective function for first-stage problme, free variable\n",
        "DV.Theta = Model.add_variable(domain=poi.VariableDomain.Continuous); # objective function for first-stage problme, free variable\n",
        "DV.total_obj = Model.add_variable(domain=poi.VariableDomain.Continuous); # total objective function, free variable\n",
        "\n",
        "### OBJECTIVE FUNCTION\n",
        "obj_total = poi.ExprBuilder();\n",
        "# first-stage objective\n",
        "obj_total += poi.quicksum(poi.quicksum(commit_cost[g]*DV.Ucom[g,t]+ startup_cost[g]*DV.Usu[g,t]+shutdown_cost[g]*DV.Usd[g,t] for g in range(nThermal)) for t in range(nT));\n",
        "Model.add_linear_constraint(DV.s1_obj-obj_total, poi.Eq, 0);\n",
        "obj_total += DV.Theta;\n",
        "Model.add_linear_constraint(DV.total_obj-obj_total, poi.Eq, 0);\n",
        "Model.set_objective(obj_total, poi.ObjectiveSense.Minimize)\n",
        "\n",
        "### CONSTRAINTS\n",
        "# cost components\n",
        "for s in range(nS):\n",
        "  obj = poi.ExprBuilder();\n",
        "  obj += poi.quicksum(poi.quicksum(gen_cost[g]*DV.prod_thermal[s,g,t] for g in range(nThermal)) + LL_cost*DV.LL[s, t] for t in range(nT));\n",
        "  Model.add_linear_constraint(DV.theta[s]-obj, poi.Eq, 0);\n",
        "  Model.add_linear_constraint(DV.Theta - DV.theta[s], poi.Geq, 0)\n",
        "\n",
        "# on/off status\n",
        "for g in range(nThermal):\n",
        "  for t in range(1, nT):\n",
        "    Model.add_linear_constraint(DV.Ucom[g,t]-DV.Ucom[g,t-1]-DV.Usu[g,t]+DV.Usd[g,t], poi.Eq, 0);\n",
        "\n",
        "for s in range(nS):\n",
        "  # balance equation\n",
        "  for t in range(nT):\n",
        "    Model.add_linear_constraint(\n",
        "        poi.quicksum(DV.prod_thermal[s,g,t] for g in range(nThermal))+  # generation from thermal plants\n",
        "        poi.quicksum(DV.prod_sol[s,g,t] for g in range(nSolar))+        # generation from solar\n",
        "        poi.quicksum(DV.prod_wind[s,g,t] for g in range(nWind))+        # generation from wind\n",
        "        DV.store_dis[s,t]-DV.store_ch[s,t]+DV.LL[s,t],                      # discharge-charge + LL\n",
        "        poi.Eq, demand[s,t]);\n",
        "\n",
        "  # production capacity for thermal plants\n",
        "  for g in range(nThermal):\n",
        "    for t in range(nT):\n",
        "      Model.add_linear_constraint(DV.prod_thermal[s,g,t]-Pmax[g]*DV.Ucom[g,t], poi.Leq, 0);\n",
        "      Model.add_linear_constraint(DV.prod_thermal[s,g,t]-Pmin[g]*DV.Ucom[g,t], poi.Geq,0);\n",
        "\n",
        "  # ramping\n",
        "  for g in range(nThermal):\n",
        "    for t in range(1, nT):\n",
        "      Model.add_linear_constraint(DV.prod_thermal[s,g,t]-DV.prod_thermal[s,g,t-1] -RampU[g]*Pmax[g]*DV.Ucom[g,t], poi.Leq, 0);\n",
        "      Model.add_linear_constraint(DV.prod_thermal[s,g,t-1]-DV.prod_thermal[s,g,t] -RampD[g]*Pmax[g]*DV.Ucom[g,t], poi.Leq, 0);\n",
        "\n",
        "  # availability for VRE\n",
        "  for t in range(nT):\n",
        "    for g in range(nSolar):Model.add_linear_constraint(DV.prod_sol[s,g,t], poi.Leq, Pmax[g+nThermal]*solar_CF[s,t]);\n",
        "    for g in range(nWind):Model.add_linear_constraint(DV.prod_wind[s,g,t], poi.Leq, Pmax[g+nThermal+nSolar]*wind_CF[s,t]);\n",
        "\n",
        "  # storage\n",
        "  for t in range(1, nT):\n",
        "    Model.add_linear_constraint(DV.SOC[s,t]-DV.SOC[s,t-1]-store_eff_ch*DV.store_ch[s,t]+DV.store_dis[s,t]/store_eff_dis, poi.Eq, 0);\n",
        "\n",
        "  Model.add_linear_constraint(DV.SOC[s,0], poi.Eq,0);\n",
        "  for t in range(nT):\n",
        "    Model.add_linear_constraint(DV.SOC[s,t], poi.Leq, store_level);\n",
        "    Model.add_linear_constraint(DV.store_ch[s,t], poi.Leq, store_ch);\n",
        "    Model.add_linear_constraint(DV.store_dis[s,t], poi.Leq, store_dis);\n",
        "\n",
        "### SOLVE THE MODEL\n",
        "Model.set_model_attribute(poi.ModelAttribute.Silent, 0);\n",
        "Model.optimize();\n",
        "\n",
        "### POST-PROCESSING\n",
        "# calculate total generation and load shedding\n",
        "total_thermal_gen, lost_load = np.zeros(nS), np.zeros(nS);\n",
        "total_VRE_gen = np.zeros(nS);\n",
        "for s in range(nS):\n",
        "  for t in range(nT):\n",
        "      for g in range(nThermal): total_thermal_gen[s] += Model.get_value(DV.prod_thermal[s,g,t]);\n",
        "      for g in range(nSolar): total_VRE_gen[s] += Model.get_value(DV.prod_sol[s,g,t]);\n",
        "      for g in range(nWind): total_VRE_gen[s] += Model.get_value(DV.prod_wind[s,g,t]);\n",
        "      lost_load[s] += Model.get_value(DV.LL[s,t]);\n",
        "scenario_obj = np.zeros(nS);\n",
        "for s in range(nS):\n",
        "  scenario_obj[s] = round(Model.get_value(DV.theta[s]));\n",
        "  print(f'scenario {s},  obj = {scenario_obj[s]}, Thermal gen: {round(total_thermal_gen[s])} MWh,  VRE gen: {round(total_VRE_gen[s])} MWh,\\\n",
        "   lost load: {round(lost_load[s])} MWh,  total load: {round(demand[s].sum())} MWh');\n",
        "print(f'\\n Total Objective value: {np.round(Model.get_model_attribute(poi.ModelAttribute.ObjectiveValue),1)}, \\\n",
        "first-stage obj: {round(Model.get_value(DV.s1_obj))}, \\t Elapsed time: {np.round(time.time()-time_stamp, 2)} (s)');\n",
        "UC_obj_Robust = Model.get_model_attribute(poi.ModelAttribute.ObjectiveValue);"
      ],
      "metadata": {
        "id": "TeR2Y0zEHDZt",
        "colab": {
          "base_uri": "https://localhost:8080/"
        },
        "outputId": "377b63a0-52f9-47ef-b872-a13d78b95961"
      },
      "execution_count": 14,
      "outputs": [
        {
          "output_type": "stream",
          "name": "stdout",
          "text": [
            "scenario 0,  obj = 1154318.0, Thermal gen: 323008 MWh,  VRE gen: 35659 MWh,   lost load: 0 MWh,  total load: 358793 MWh\n",
            "scenario 1,  obj = 1154318.0, Thermal gen: 322648 MWh,  VRE gen: 169583 MWh,   lost load: 0 MWh,  total load: 492422 MWh\n",
            "scenario 2,  obj = 1154318.0, Thermal gen: 322746 MWh,  VRE gen: 22743 MWh,   lost load: 0 MWh,  total load: 346272 MWh\n",
            "scenario 3,  obj = 1154318.0, Thermal gen: 322464 MWh,  VRE gen: 100505 MWh,   lost load: 0 MWh,  total load: 423425 MWh\n",
            "scenario 4,  obj = 1154318.0, Thermal gen: 322648 MWh,  VRE gen: 169583 MWh,   lost load: 0 MWh,  total load: 492422 MWh\n",
            "\n",
            " Total Objective value: 1316504.3, first-stage obj: 162186, \t Elapsed time: 7.12 (s)\n"
          ]
        }
      ]
    },
    {
      "cell_type": "markdown",
      "source": [
        "\n",
        "\n",
        "# **<font color='blue'>5. Value of Stochastic Solution (VSS) </font>**  <a name=\"VSS\"></a>\n",
        "\n",
        "There are different ways to assess whether it is worth characterizing the uncertainty via a stochastic programming approach and VSS is one of the common methods. In essence, it measures the benefit of explicitly incorporating uncertainty into a model over using average values for uncertain parameters. Let $Z_{SP}$ be the solution for the stochastic problem. The following steps are taken to calculate VSS:\n",
        "- Solve Expected Value (EV) problem in which the uncertain parameters are replaced by their expectation over scenarios. Store the values of the first stage variables.\n",
        "- Solve Expected result of using EV decisions (EEV), which is the same as the stochastic problem except the first-stage variables are set to their values in the previous step.\n",
        "\n",
        "Then the VSS is calculated as $EEV-Z_{SP}$ or in it normalized form as $\\frac{100\\times(EEV-Z_{SP})}{EEV}$.\n",
        "\n",
        "\n"
      ],
      "metadata": {
        "id": "x3vYbKWmuTHy"
      }
    },
    {
      "cell_type": "markdown",
      "source": [
        "**Step 1:** Expected value problem (EV)\n"
      ],
      "metadata": {
        "id": "Tk6sxoitw4Ex"
      }
    },
    {
      "cell_type": "code",
      "source": [
        "np.random.seed(2025);\n",
        "time_stamp = time.time();\n",
        "### SETS\n",
        "nThermal = 10;\n",
        "nSolar = 5;\n",
        "nWind = 5;\n",
        "nT = len(demand[0]);\n",
        "\n",
        "### PARAMETERS\n",
        "# demand is the demand matrix, solar_CF and wind_CF are the solar and wind capacity factors\n",
        "gen_cost = np.random.randint(low=2, high=7, size=nThermal); # marginal generation cost (variable )\n",
        "LL_cost = 1e4;  # penalty for lost load\n",
        "Pmax =  np.random.randint(int(0.2*demand.max()/nThermal), int(demand.max()/nThermal), size=nThermal+nSolar+nWind);\n",
        "Pmin = np.zeros(nThermal+nSolar+nWind);\n",
        "RampU =  np.random.uniform(low=0.2, high=0.7, size=nThermal);\n",
        "RampD =  np.random.uniform(low=0.1, high=0.5, size=nThermal);\n",
        "store_level = 0.2*demand.max();\n",
        "store_ch, store_dis = store_level/4, store_level/4;\n",
        "store_eff_ch, store_eff_dis = 0.9, 0.9;\n",
        "commit_cost = np.random.randint(500, 1500, size=nThermal);\n",
        "startup_cost = np.random.randint(1000, 3000, size=nThermal);\n",
        "shutdown_cost = np.random.randint(200, 2000, size=nThermal);\n",
        "probs = np.random.dirichlet(np.ones(nS), size=1)[0];\n",
        "\n",
        "# MODEL INSTANCE\n",
        "Model = highs.Model();\n",
        "\n",
        "\n",
        "### DECISION VARIABLES\n",
        "# define a class to distinguish the variables from parameters\n",
        "class DV(): prod_thermal=[]; prod_vre=[]; LL=[]; SOC=[]; store_ch=[]; store_dis=[]; Ucom=[]; Usu=[]; Usd=[];s1_obj=[]; s2_obj=[]; total_obj=[]\n",
        "\n",
        "DV.prod_thermal = Model.add_variables( range(nThermal), range(nT), lb = 0,domain=poi.VariableDomain.Continuous);\n",
        "DV.prod_sol = Model.add_variables(range(nSolar), range(nT), lb = 0,domain=poi.VariableDomain.Continuous);\n",
        "DV.prod_wind = Model.add_variables(range(nWind), range(nT), lb = 0,domain=poi.VariableDomain.Continuous);\n",
        "DV.LL = Model.add_variables(range(nT), lb = 0, domain=poi.VariableDomain.Continuous); # lost load (shedding), continuous positive variable\n",
        "DV.SOC = Model.add_variables(range(nT), lb = 0, domain=poi.VariableDomain.Continuous); # storage state of charge, continuous positive variable\n",
        "DV.store_ch = Model.add_variables(range(nT), lb = 0, domain=poi.VariableDomain.Continuous); # storage charge, continuous positive variable\n",
        "DV.store_dis = Model.add_variables(range(nT), lb = 0, domain=poi.VariableDomain.Continuous); # storage discharge, continuous positive variable\n",
        "DV.Ucom = Model.add_variables(range(nThermal), range(nT), domain=poi.VariableDomain.Binary); # generator on/off status\n",
        "DV.Usu = Model.add_variables(range(nThermal), range(nT), domain=poi.VariableDomain.Binary); # startup decision\n",
        "DV.Usd = Model.add_variables(range(nThermal), range(nT), domain=poi.VariableDomain.Binary); # shutdown decision\n",
        "DV.s1_obj = Model.add_variable(domain=poi.VariableDomain.Continuous); # objective function for first-stage problme, free variable\n",
        "DV.s2_obj = Model.add_variable(domain=poi.VariableDomain.Continuous); # objective function for second-stage problme, free variable\n",
        "DV.total_obj = Model.add_variable(domain=poi.VariableDomain.Continuous); # total objective function, free variable\n",
        "\n",
        "### OBJECTIVE FUNCTION\n",
        "obj_total = poi.ExprBuilder();\n",
        "# first-stage objective\n",
        "obj_total += poi.quicksum(poi.quicksum(commit_cost[g]*DV.Ucom[g,t]+ startup_cost[g]*DV.Usu[g,t]+shutdown_cost[g]*DV.Usd[g,t] for g in range(nThermal)) for t in range(nT));\n",
        "Model.add_linear_constraint(DV.s1_obj-obj_total, poi.Eq, 0);\n",
        "# second-stage objective\n",
        "obj_total += DV.s2_obj;\n",
        "Model.add_linear_constraint(DV.total_obj-obj_total, poi.Eq, 0);\n",
        "Model.set_objective(obj_total, poi.ObjectiveSense.Minimize)\n",
        "\n",
        "### CONSTRAINTS\n",
        "# cost components\n",
        "\n",
        "obj = poi.ExprBuilder();\n",
        "obj += poi.quicksum(poi.quicksum(gen_cost[g]*DV.prod_thermal[g,t] for g in range(nThermal)) + LL_cost*DV.LL[t] for t in range(nT));\n",
        "Model.add_linear_constraint(DV.s2_obj-obj, poi.Eq, 0);\n",
        "\n",
        "# on/off status\n",
        "for g in range(nThermal):\n",
        "  for t in range(1, nT):\n",
        "    Model.add_linear_constraint(DV.Ucom[g,t]-DV.Ucom[g,t-1]-DV.Usu[g,t]+DV.Usd[g,t], poi.Eq, 0);\n",
        "\n",
        "# balance equation\n",
        "for t in range(nT):\n",
        "  Model.add_linear_constraint(\n",
        "      poi.quicksum(DV.prod_thermal[g,t] for g in range(nThermal))+  # generation from thermal plants\n",
        "      poi.quicksum(DV.prod_sol[g,t] for g in range(nSolar))+        # generation from solar\n",
        "      poi.quicksum(DV.prod_wind[g,t] for g in range(nWind))+        # generation from wind\n",
        "      DV.store_dis[t]-DV.store_ch[t]+DV.LL[t],                      # discharge-charge + LL\n",
        "      poi.Eq, probs@demand[:,t]);\n",
        "\n",
        "# production capacity for thermal plants\n",
        "for g in range(nThermal):\n",
        "  for t in range(nT):\n",
        "    Model.add_linear_constraint(DV.prod_thermal[g,t]-Pmax[g]*DV.Ucom[g,t], poi.Leq, 0);\n",
        "    Model.add_linear_constraint(DV.prod_thermal[g,t]-Pmin[g]*DV.Ucom[g,t], poi.Geq,0);\n",
        "\n",
        "# ramping\n",
        "for g in range(nThermal):\n",
        "  for t in range(1, nT):\n",
        "    Model.add_linear_constraint(DV.prod_thermal[g,t]-DV.prod_thermal[g,t-1] -RampU[g]*Pmax[g]*DV.Ucom[g,t], poi.Leq, 0);\n",
        "    Model.add_linear_constraint(DV.prod_thermal[g,t-1]-DV.prod_thermal[g,t] -RampD[g]*Pmax[g]*DV.Ucom[g,t], poi.Leq, 0);\n",
        "\n",
        "# availability for VRE\n",
        "for t in range(nT):\n",
        "  for g in range(nSolar):Model.add_linear_constraint(DV.prod_sol[g,t], poi.Leq, Pmax[g+nThermal]*(probs@solar_CF[:,t]));\n",
        "  for g in range(nWind):Model.add_linear_constraint(DV.prod_wind[g,t], poi.Leq, Pmax[g+nThermal+nSolar]*(probs@wind_CF[:,t]));\n",
        "\n",
        "# storage\n",
        "for t in range(1, nT):\n",
        "  Model.add_linear_constraint(DV.SOC[t]-DV.SOC[t-1]-store_eff_ch*DV.store_ch[t]+DV.store_dis[t]/store_eff_dis, poi.Eq, 0);\n",
        "\n",
        "Model.add_linear_constraint(DV.SOC[0], poi.Eq,0);\n",
        "for t in range(nT):\n",
        "  Model.add_linear_constraint(DV.SOC[t], poi.Leq, store_level);\n",
        "  Model.add_linear_constraint(DV.store_ch[t], poi.Leq, store_ch);\n",
        "  Model.add_linear_constraint(DV.store_dis[t], poi.Leq, store_dis);\n",
        "\n",
        "### SOLVE THE MODEL\n",
        "Model.set_model_attribute(poi.ModelAttribute.Silent, 0);\n",
        "Model.optimize();\n",
        "\n",
        "### POST-PROCESSING\n",
        "print(f'\\n Total Objective value: {np.round(Model.get_model_attribute(poi.ModelAttribute.ObjectiveValue),1)}, \\\n",
        "first-stage obj: {round(Model.get_value(DV.s1_obj))}, \\t Elapsed time: {np.round(time.time()-time_stamp, 2)} (s)');\n"
      ],
      "metadata": {
        "colab": {
          "base_uri": "https://localhost:8080/"
        },
        "id": "vGB28VKmcSh7",
        "outputId": "6f7270bc-5940-4e08-cda7-779d52f3f66e"
      },
      "execution_count": 15,
      "outputs": [
        {
          "output_type": "stream",
          "name": "stdout",
          "text": [
            "\n",
            " Total Objective value: 1097253.1, first-stage obj: 147407, \t Elapsed time: 2.77 (s)\n"
          ]
        }
      ]
    },
    {
      "cell_type": "markdown",
      "source": [
        "Get the UC decisions to be used in the EEV problem"
      ],
      "metadata": {
        "id": "mAOsJGKjcRSn"
      }
    },
    {
      "cell_type": "code",
      "source": [
        "Ucom_val, Usu_val, Usd_val = np.zeros((nThermal, nT)), np.zeros((nThermal, nT)), np.zeros((nThermal, nT));\n",
        "s1_obj = Model.get_value(DV.s1_obj);\n",
        "for g in range(nThermal):\n",
        "  for t in range(nT):\n",
        "    Ucom_val[g,t] = Model.get_value(DV.Ucom[g,t]);\n",
        "    Usu_val[g,t] = Model.get_value(DV.Usu[g,t]);\n",
        "    Usd_val[g,t] = Model.get_value(DV.Usd[g,t]);"
      ],
      "metadata": {
        "id": "OZsdz0gbU4rm"
      },
      "execution_count": 16,
      "outputs": []
    },
    {
      "cell_type": "markdown",
      "source": [
        "**Step 2:** Solve the second-stage problem for each scenario, given the UC decisions"
      ],
      "metadata": {
        "id": "XHo7uY91Ve2k"
      }
    },
    {
      "cell_type": "code",
      "source": [
        "s2_obj = np.zeros(nS);\n",
        "np.random.seed(2025);\n",
        "### SETS\n",
        "nThermal = 10;\n",
        "nSolar = 5;\n",
        "nWind = 5;\n",
        "nT = len(demand[0]);\n",
        "\n",
        "### PARAMETERS\n",
        "# demand is the demand matrix, solar_CF and wind_CF are the solar and wind capacity factors\n",
        "gen_cost = np.random.randint(low=2, high=7, size=nThermal); # marginal generation cost (variable )\n",
        "LL_cost = 1e4;  # penalty for lost load\n",
        "Pmax =  np.random.randint(int(0.2*demand.max()/nThermal), int(demand.max()/nThermal), size=nThermal+nSolar+nWind);\n",
        "Pmin = np.zeros(nThermal+nSolar+nWind);\n",
        "RampU =  np.random.uniform(low=0.2, high=0.7, size=nThermal);\n",
        "RampD =  np.random.uniform(low=0.1, high=0.5, size=nThermal);\n",
        "store_level = 0.2*demand.max();\n",
        "store_ch, store_dis = store_level/4, store_level/4;\n",
        "store_eff_ch, store_eff_dis = 0.9, 0.9;\n",
        "commit_cost = np.random.randint(500, 1500, size=nThermal);\n",
        "startup_cost = np.random.randint(1000, 3000, size=nThermal);\n",
        "shutdown_cost = np.random.randint(200, 2000, size=nThermal);\n",
        "probs = np.random.dirichlet(np.ones(nS), size=1)[0];\n",
        "\n",
        "for s in range(nS):\n",
        "  time_stamp = time.time();\n",
        "  ### Sets and parameters as before\n",
        "\n",
        "  # MODEL INSTANCE\n",
        "  Model = highs.Model();\n",
        "\n",
        "\n",
        "  ### DECISION VARIABLES\n",
        "  # define a class to distinguish the variables from parameters\n",
        "  class DV(): prod_thermal=[]; prod_vre=[]; LL=[]; SOC=[]; store_ch=[]; store_dis=[]; s2_obj=[];\n",
        "\n",
        "  DV.prod_thermal = Model.add_variables( range(nThermal), range(nT), lb = 0,domain=poi.VariableDomain.Continuous);\n",
        "  DV.prod_sol = Model.add_variables(range(nSolar), range(nT), lb = 0,domain=poi.VariableDomain.Continuous);\n",
        "  DV.prod_wind = Model.add_variables(range(nWind), range(nT), lb = 0,domain=poi.VariableDomain.Continuous);\n",
        "  DV.LL = Model.add_variables(range(nT), lb = 0, domain=poi.VariableDomain.Continuous); # lost load (shedding), continuous positive variable\n",
        "  DV.SOC = Model.add_variables(range(nT), lb = 0, domain=poi.VariableDomain.Continuous); # storage state of charge, continuous positive variable\n",
        "  DV.store_ch = Model.add_variables(range(nT), lb = 0, domain=poi.VariableDomain.Continuous); # storage charge, continuous positive variable\n",
        "  DV.store_dis = Model.add_variables(range(nT), lb = 0, domain=poi.VariableDomain.Continuous); # storage discharge, continuous positive variable\n",
        "  DV.s2_obj = Model.add_variable(domain=poi.VariableDomain.Continuous); # objective function for second-stage problme, free variable\n",
        "\n",
        "  ### OBJECTIVE FUNCTION\n",
        "  # second-stage objective\n",
        "  obj_total = poi.ExprBuilder();\n",
        "  obj_total += DV.s2_obj;\n",
        "  Model.set_objective(obj_total, poi.ObjectiveSense.Minimize)\n",
        "\n",
        "  ### CONSTRAINTS\n",
        "  # cost components\n",
        "  obj = poi.ExprBuilder();\n",
        "  obj += poi.quicksum(poi.quicksum(gen_cost[g]*DV.prod_thermal[g,t] for g in range(nThermal)) + LL_cost*DV.LL[t] for t in range(nT));\n",
        "  Model.add_linear_constraint(DV.s2_obj-obj, poi.Eq, 0);\n",
        "\n",
        "  # # on/off status\n",
        "  # for g in range(nThermal):\n",
        "  #   for t in range(1, nT):\n",
        "  #     Model.add_linear_constraint(DV.Ucom[g,t]-DV.Ucom[g,t-1]-DV.Usu[g,t]+DV.Usd[g,t], poi.Eq, 0);\n",
        "\n",
        "  # balance equation\n",
        "  for t in range(nT):\n",
        "    Model.add_linear_constraint(\n",
        "        poi.quicksum(DV.prod_thermal[g,t] for g in range(nThermal))+  # generation from thermal plants\n",
        "        poi.quicksum(DV.prod_sol[g,t] for g in range(nSolar))+        # generation from solar\n",
        "        poi.quicksum(DV.prod_wind[g,t] for g in range(nWind))+        # generation from wind\n",
        "        DV.store_dis[t]-DV.store_ch[t]+DV.LL[t],                      # discharge-charge + LL\n",
        "        poi.Eq, demand[s,t]);\n",
        "\n",
        "  # production capacity for thermal plants\n",
        "  for g in range(nThermal):\n",
        "    for t in range(nT):\n",
        "      Model.add_linear_constraint(DV.prod_thermal[g,t]-Pmax[g]*Ucom_val[g,t], poi.Leq, 0);\n",
        "      Model.add_linear_constraint(DV.prod_thermal[g,t]-Pmin[g]*Ucom_val[g,t], poi.Geq,0);\n",
        "\n",
        "  # ramping\n",
        "  for g in range(nThermal):\n",
        "    for t in range(1, nT):\n",
        "      Model.add_linear_constraint(DV.prod_thermal[g,t]-DV.prod_thermal[g,t-1] -RampU[g]*Pmax[g]*Ucom_val[g,t], poi.Leq, 0);\n",
        "      Model.add_linear_constraint(DV.prod_thermal[g,t-1]-DV.prod_thermal[g,t] -RampD[g]*Pmax[g]*Ucom_val[g,t], poi.Leq, 0);\n",
        "\n",
        "  # availability for VRE\n",
        "  for t in range(nT):\n",
        "    for g in range(nSolar):Model.add_linear_constraint(DV.prod_sol[g,t], poi.Leq, Pmax[g+nThermal]*solar_CF[s,t]);\n",
        "    for g in range(nWind):Model.add_linear_constraint(DV.prod_wind[g,t], poi.Leq, Pmax[g+nSolar]*wind_CF[s,t]);\n",
        "\n",
        "  # storage\n",
        "  for t in range(1, nT):\n",
        "    Model.add_linear_constraint(DV.SOC[t]-DV.SOC[t-1]-store_eff_ch*DV.store_ch[t]+DV.store_dis[t]/store_eff_dis, poi.Eq, 0);\n",
        "\n",
        "  Model.add_linear_constraint(DV.SOC[0], poi.Eq,0);\n",
        "  for t in range(nT):\n",
        "    Model.add_linear_constraint(DV.SOC[t], poi.Leq, store_level);\n",
        "    Model.add_linear_constraint(DV.store_ch[t], poi.Leq, store_ch);\n",
        "    Model.add_linear_constraint(DV.store_dis[t], poi.Leq, store_dis);\n",
        "\n",
        "  ### SOLVE THE MODEL\n",
        "  Model.set_model_attribute(poi.ModelAttribute.Silent, 0);\n",
        "  Model.optimize();\n",
        "\n",
        "  ### POST-PROCESSING\n",
        "  ll=0;\n",
        "  for t in range(nT):\n",
        "    ll += Model.get_value(DV.LL[t]);\n",
        "  print(f' Scenario: {s}, second-stage obj: {round(Model.get_value(DV.s2_obj))},\\\n",
        "   lost load: {round(ll)} ({round(100*ll/demand[s].sum())}%), \\t Elapsed time: {np.round(time.time()-time_stamp, 2)} (s)');\n",
        "  s2_obj[s] = probs[s]*Model.get_value(DV.s2_obj);\n",
        "\n",
        "EEV = s1_obj+sum(s2_obj);"
      ],
      "metadata": {
        "colab": {
          "base_uri": "https://localhost:8080/"
        },
        "id": "4Lx1J_jAU5ny",
        "outputId": "b4419073-ad3d-436a-e4b6-3b47075e4077"
      },
      "execution_count": 17,
      "outputs": [
        {
          "output_type": "stream",
          "name": "stdout",
          "text": [
            " Scenario: 0, second-stage obj: 493857,   lost load: 0 (0%), \t Elapsed time: 0.03 (s)\n",
            " Scenario: 1, second-stage obj: 121602696,   lost load: 12066 (2%), \t Elapsed time: 0.03 (s)\n",
            " Scenario: 2, second-stage obj: 289639,   lost load: 0 (0%), \t Elapsed time: 0.03 (s)\n",
            " Scenario: 3, second-stage obj: 657594,   lost load: 0 (0%), \t Elapsed time: 0.03 (s)\n",
            " Scenario: 4, second-stage obj: 121602696,   lost load: 12066 (2%), \t Elapsed time: 0.02 (s)\n"
          ]
        }
      ]
    },
    {
      "cell_type": "markdown",
      "source": [
        "Calculate the VSS:"
      ],
      "metadata": {
        "id": "VaG27dLFeviT"
      }
    },
    {
      "cell_type": "code",
      "source": [
        "100*(EEV-UC_obj_SP)/EEV"
      ],
      "metadata": {
        "id": "-856UMJZU5li",
        "colab": {
          "base_uri": "https://localhost:8080/"
        },
        "outputId": "f066948d-5d79-4a3f-d9d4-6f3b549ffda1"
      },
      "execution_count": 18,
      "outputs": [
        {
          "output_type": "execute_result",
          "data": {
            "text/plain": [
              "np.float64(98.58042677245034)"
            ]
          },
          "metadata": {},
          "execution_count": 18
        }
      ]
    },
    {
      "cell_type": "markdown",
      "source": [
        "\\Comparison between the objective functions obtained by different approaches:"
      ],
      "metadata": {
        "id": "aUltRY50kNMK"
      }
    },
    {
      "cell_type": "code",
      "source": [
        "print(f'Best case deterministic scenario: {round(UC_obj_det.min())}');\n",
        "print(f'Worst case deterministic scenario: {round(UC_obj_det.max())}');\n",
        "print(f'Stochastic programming outcome: {round(UC_obj_SP)}');\n",
        "print(f'Robust optimization outcome: {round(UC_obj_Robust)}');\n",
        "print(f'Expected value problem outcome: {round(EEV)}');"
      ],
      "metadata": {
        "colab": {
          "base_uri": "https://localhost:8080/"
        },
        "id": "SEHlT02rkj2I",
        "outputId": "6bf536fd-321d-40ba-9457-4215c3c06896"
      },
      "execution_count": 20,
      "outputs": [
        {
          "output_type": "stream",
          "name": "stdout",
          "text": [
            "Best case deterministic scenario: 500310\n",
            "Worst case deterministic scenario: 1316504\n",
            "Stochastic programming outcome: 1132502\n",
            "Robust optimization outcome: 1316504\n",
            "Expected value problem outcome: 79777656\n"
          ]
        }
      ]
    },
    {
      "cell_type": "markdown",
      "source": [
        "<br><br><br><br>"
      ],
      "metadata": {
        "id": "cVRrNRLLgvg4"
      }
    },
    {
      "cell_type": "markdown",
      "source": [
        "\n",
        "# **<font color='blue'>6. Case Study Questions </font>** <a name=\"questions\"></a>\n",
        "\n",
        "**<font color='red'> Questions </font>**\n",
        "1. Consider the 100 extreme days (scenarios) generated as part of the case study 2 assignment. Select 30 possible realizations randomly and divide the set into 20 training and 10 test scenarios. For the UC models developed in this recitation:\n",
        "- run the deterministic UC on each of the training scenarios and record the first-stage decisions that resulted in the highest objective value.\n",
        "- run the stochastic UC and record its first-stage variables.\n",
        "- run the robust UC and record its first-stage variables.\n",
        "\n",
        "Now evaluate each of the recorded first-stage variable sets on the 10 test scenarios, just as we did in step 2 of the VSS calculation (dispatch problem with commitment decisions are given). Record the average out-of-sample performance for each of the paradigms. What do you observe? Which approach has a better performance and why? Comment on the total average cost (first stage + average out-of-sample cost) for each approach.\n",
        "\n",
        "<br>\n",
        "<br>\n",
        "<br>\n",
        "\n"
      ],
      "metadata": {
        "id": "hvUNYC--wrCc"
      }
    },
    {
      "cell_type": "markdown",
      "source": [
        "# **<font color='blue'>7. References and Further Reading </font>** <a name=\"references\"></a>\n",
        "\n",
        "\n",
        "- Conejo, A. J., & Baringo, L. (2018). Power system operations (Vol. 11). New York: Springer. ([link](https://link.springer.com/book/10.1007/978-3-319-69407-8)) - [section 7 covers ED and UC]\n",
        "- Sun, X. A., & Conejo, A. J. (2021). Robust optimization in electric energy systems (Vol. 313). Cham: Springer.([link](https://link.springer.com/book/10.1007/978-3-030-85128-6))\n",
        "- Ross, S. M. (2014). Introduction to stochastic dynamic programming. Academic press.([link](https://link.springer.com/book/10.1007/978-1-4614-0237-4))\n",
        "- Xavier, Á. S., Qiu, F., & Ahmed, S. (2021). Learning to solve large-scale security-constrained unit commitment problems. INFORMS Journal on Computing, 33(2), 739-756. ([link](https://pubsonline.informs.org/doi/abs/10.1287/ijoc.2020.0976))\n",
        "- Chen, W., Park, S., Tanneau, M., & Van Hentenryck, P. (2022). Learning optimization proxies for large-scale security-constrained economic dispatch. Electric Power Systems Research, 213, 108566. ([link](https://www.sciencedirect.com/science/article/pii/S0378779622006629?casa_token=UHByIil0de4AAAAA:iuAn6VKvqTb9Ulev1O8Mc5SjxKnhY8wqCcV7z5wxTckWhyvb5-LUw-xw8rDNjWy6YIm3hbt3))\n",
        "\n",
        "<br>\n",
        "<br>\n",
        "<br>\n",
        "<br>\n",
        "<br>\n",
        "<br>\n",
        "<br>\n",
        "<br>\n",
        "<br>\n",
        "<br>\n",
        "<br>\n",
        "\n"
      ],
      "metadata": {
        "id": "KSSx8C-fwq7g"
      }
    },
    {
      "cell_type": "code",
      "source": [],
      "metadata": {
        "id": "qrsiAnm3wqn8"
      },
      "execution_count": null,
      "outputs": []
    }
  ]
}